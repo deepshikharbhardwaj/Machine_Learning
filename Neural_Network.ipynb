{
  "nbformat": 4,
  "nbformat_minor": 0,
  "metadata": {
    "colab": {
      "name": "Neural Network.ipynb",
      "provenance": [],
      "collapsed_sections": [],
      "authorship_tag": "ABX9TyNVAwxMr4ir1ogRHE5dFOSa",
      "include_colab_link": true
    },
    "kernelspec": {
      "name": "python3",
      "display_name": "Python 3"
    },
    "language_info": {
      "name": "python"
    }
  },
  "cells": [
    {
      "cell_type": "markdown",
      "metadata": {
        "id": "view-in-github",
        "colab_type": "text"
      },
      "source": [
        "<a href=\"https://colab.research.google.com/github/deepshikharbhardwaj/Machine_Learning/blob/main/Neural_Network.ipynb\" target=\"_parent\"><img src=\"https://colab.research.google.com/assets/colab-badge.svg\" alt=\"Open In Colab\"/></a>"
      ]
    },
    {
      "cell_type": "markdown",
      "metadata": {
        "id": "52rB_10Q27B3"
      },
      "source": [
        "#Imports"
      ]
    },
    {
      "cell_type": "code",
      "metadata": {
        "id": "PawkenIL-laD"
      },
      "source": [
        "import torch\n",
        "import torch.nn as nn\n",
        "import torch.optim as optim\n",
        "import torch.nn.functional as F\n",
        "from torch.utils.data import DataLoader\n",
        "import torchvision.datasets as datasets\n",
        "import torchvision.transforms as transforms"
      ],
      "execution_count": 7,
      "outputs": []
    },
    {
      "cell_type": "markdown",
      "metadata": {
        "id": "BfBBkLw34Z5k"
      },
      "source": [
        "#Create Fully Connected Network"
      ]
    },
    {
      "cell_type": "code",
      "metadata": {
        "colab": {
          "base_uri": "https://localhost:8080/"
        },
        "id": "HCNeN_033SLl",
        "outputId": "a8956e32-4cb4-406d-f6e9-2679c535ccf7"
      },
      "source": [
        "class NN(nn.Module):\n",
        "    def __init__(self, input_size, num_classes):\n",
        "        super(NN,self).__init__()\n",
        "        self.fc1 = nn.Linear(input_size, 50)\n",
        "        self.fc2 = nn.Linear(50, num_classes)\n",
        "\n",
        "    def forward(self, x):\n",
        "        x = F.relu(self.fc1(x))\n",
        "        x = self.fc2(x)\n",
        "        return x\n",
        "\n",
        "#Checking        \n",
        "model = NN(784, 10)\n",
        "x = torch.randn(64, 784)\n",
        "model(x).shape"
      ],
      "execution_count": 8,
      "outputs": [
        {
          "output_type": "execute_result",
          "data": {
            "text/plain": [
              "torch.Size([64, 10])"
            ]
          },
          "metadata": {
            "tags": []
          },
          "execution_count": 8
        }
      ]
    },
    {
      "cell_type": "markdown",
      "metadata": {
        "id": "sNfGeN9P5wPe"
      },
      "source": [
        "#Set Device"
      ]
    },
    {
      "cell_type": "code",
      "metadata": {
        "id": "EcbIS24I5i90"
      },
      "source": [
        "device = torch.device('cuda' if torch.cuda.is_available() else 'cpu')"
      ],
      "execution_count": 9,
      "outputs": []
    },
    {
      "cell_type": "markdown",
      "metadata": {
        "id": "e1ah9B7z6J35"
      },
      "source": [
        "#Hyperparameters"
      ]
    },
    {
      "cell_type": "code",
      "metadata": {
        "id": "Sar1KoMQ6P4H"
      },
      "source": [
        "input_size = 784\n",
        "num_classes = 10\n",
        "learning_rate = 0.001\n",
        "batch_size = 64\n",
        "num_epochs = 2"
      ],
      "execution_count": 18,
      "outputs": []
    },
    {
      "cell_type": "markdown",
      "metadata": {
        "id": "01jpEL2A83iX"
      },
      "source": [
        "# Load Data"
      ]
    },
    {
      "cell_type": "code",
      "metadata": {
        "id": "pgJI2XE587bm"
      },
      "source": [
        "train_dataset = datasets.MNIST(root = '/content', train = True , transform = transforms.ToTensor(), download = True)\n",
        "train_loader = DataLoader(dataset = train_dataset, batch_size = batch_size, shuffle = True)\n",
        "test_dataset = datasets.MNIST(root = '/content', train = False , transform = transforms.ToTensor(), download = True)\n",
        "test_loader = DataLoader(dataset = test_dataset, batch_size = batch_size, shuffle = True)"
      ],
      "execution_count": null,
      "outputs": []
    },
    {
      "cell_type": "markdown",
      "metadata": {
        "id": "9LkEbrooSMLY"
      },
      "source": [
        "#Initialize Network"
      ]
    },
    {
      "cell_type": "code",
      "metadata": {
        "id": "Lk1Ywj23SG6o"
      },
      "source": [
        "model = NN(input_size = input_size, num_classes = num_classes).to(device)"
      ],
      "execution_count": 12,
      "outputs": []
    },
    {
      "cell_type": "markdown",
      "metadata": {
        "id": "sJO0eX-tSgL9"
      },
      "source": [
        "#Loss and Optimizer"
      ]
    },
    {
      "cell_type": "code",
      "metadata": {
        "id": "89WGMN0-SjlM"
      },
      "source": [
        "criterion = nn.CrossEntropyLoss()\n",
        "optimizer = optim.Adam(model.parameters(), lr = learning_rate)"
      ],
      "execution_count": 13,
      "outputs": []
    },
    {
      "cell_type": "markdown",
      "metadata": {
        "id": "xuMDe3UkS41q"
      },
      "source": [
        "#Train Network"
      ]
    },
    {
      "cell_type": "code",
      "metadata": {
        "id": "Rr6GgIMUS8qf"
      },
      "source": [
        "for epoch in range(num_epochs): #In one epoch model has seen all the images once\n",
        "    for batch_idx , (data, targets) in enumerate(train_loader):\n",
        "        #Get data to cuda\n",
        "        data = data.to(device)\n",
        "        targets = targets.to(device)\n",
        "\n",
        "        #CORRECT SHAPE \n",
        "        #print(data.shape) #torch.Size([64, 1, 28, 28]) correct it to torch.Size([64, 784]) as class NN takes input(num_class, input)\n",
        "        data = data.reshape(data.shape[0], -1) # untouch 0th dimension\n",
        "\n",
        "        #forward\n",
        "        scores = model(data)\n",
        "        loss = criterion(scores, targets)\n",
        "\n",
        "        #backward\n",
        "        optimizer.zero_grad()\n",
        "        loss.backward()\n",
        "\n",
        "        #gradient descent or adam step\n",
        "        optimizer.step() #update weights based on the gradients"
      ],
      "execution_count": 15,
      "outputs": []
    },
    {
      "cell_type": "markdown",
      "metadata": {
        "id": "Sw544aDHS8CY"
      },
      "source": [
        "#Check Accuracy"
      ]
    },
    {
      "cell_type": "code",
      "metadata": {
        "colab": {
          "base_uri": "https://localhost:8080/"
        },
        "id": "sat4L0P8XAaB",
        "outputId": "3e64f947-b523-43e3-d13b-12f1af8e5b0d"
      },
      "source": [
        "def check_accuracy(loader, model):\n",
        "    if loader.dataset.train:\n",
        "        print('Checking Accuracy on Training Data')\n",
        "    else:\n",
        "        print('Checking Accuracy on Test Data')\n",
        "    num_correct = 0\n",
        "    num_samples = 0\n",
        "    model.eval()\n",
        "\n",
        "    with torch.no_grad():\n",
        "        for x,y in loader:\n",
        "            x = x.to(device=device)\n",
        "            y = y.to(device=device)\n",
        "            x = x.reshape(x.shape[0], -1)\n",
        "\n",
        "            scores = model(x)\n",
        "            values, predictions = scores.max(1)\n",
        "            num_correct += (predictions == y).sum()\n",
        "            num_samples += predictions.size(0) #0th dimension in [64x10] i.e. 64\n",
        "        print(f'Got {num_correct}/ {num_samples} with accuracy {float(num_correct)/float(num_samples)*100:.2f} \\n')\n",
        "\n",
        "    model.train()\n",
        "\n",
        "check_accuracy(train_loader, model)\n",
        "check_accuracy(test_loader, model)\n",
        "\n"
      ],
      "execution_count": 20,
      "outputs": [
        {
          "output_type": "stream",
          "text": [
            "Checking Accuracy on Training Data\n",
            "Got 55879/ 60000 with accuracy 93.13 \n",
            "\n",
            "Checking Accuracy on Test Data\n",
            "Got 9285/ 10000 with accuracy 92.85 \n",
            "\n"
          ],
          "name": "stdout"
        }
      ]
    }
  ]
}