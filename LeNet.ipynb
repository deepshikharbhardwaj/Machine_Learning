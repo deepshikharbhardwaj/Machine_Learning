{
  "nbformat": 4,
  "nbformat_minor": 0,
  "metadata": {
    "colab": {
      "name": "LeNet.ipynb",
      "provenance": [],
      "authorship_tag": "ABX9TyPek8EodFOMg9p48/vSpJ+U",
      "include_colab_link": true
    },
    "kernelspec": {
      "name": "python3",
      "display_name": "Python 3"
    },
    "language_info": {
      "name": "python"
    }
  },
  "cells": [
    {
      "cell_type": "markdown",
      "metadata": {
        "id": "view-in-github",
        "colab_type": "text"
      },
      "source": [
        "<a href=\"https://colab.research.google.com/github/deepshikharbhardwaj/Machine_Learning/blob/main/LeNet.ipynb\" target=\"_parent\"><img src=\"https://colab.research.google.com/assets/colab-badge.svg\" alt=\"Open In Colab\"/></a>"
      ]
    },
    {
      "cell_type": "code",
      "metadata": {
        "id": "OYHZtDMpf86h"
      },
      "source": [
        "import torch\n",
        "import torch.nn as nn  # All neural network modules, nn.Linear, nn.Conv2d, BatchNorm, Loss functions"
      ],
      "execution_count": 1,
      "outputs": []
    },
    {
      "cell_type": "code",
      "metadata": {
        "id": "rC5MN8VhgCG1"
      },
      "source": [
        "class LeNet(nn.Module):\n",
        "    def __init__(self):\n",
        "        super(LeNet, self).__init__()\n",
        "        self.relu = nn.ReLU()\n",
        "        self.pool = nn.AvgPool2d(kernel_size=(2, 2), stride=(2, 2))\n",
        "        self.conv1 = nn.Conv2d( in_channels=1, out_channels=6, kernel_size=(5, 5), stride=(1, 1), padding=(0, 0),)\n",
        "        self.conv2 = nn.Conv2d( in_channels=6, out_channels=16, kernel_size=(5, 5), stride=(1, 1), padding=(0, 0),)\n",
        "        self.conv3 = nn.Conv2d( in_channels=16, out_channels=120, kernel_size=(5, 5), stride=(1, 1), padding=(0, 0),)\n",
        "        self.linear1 = nn.Linear(120, 84)\n",
        "        self.linear2 = nn.Linear(84, 10)\n",
        "\n",
        "    def forward(self, x):\n",
        "        x = self.relu(self.conv1(x))\n",
        "        x = self.pool(x)\n",
        "        x = self.relu(self.conv2(x))\n",
        "        x = self.pool(x)\n",
        "        x = self.relu(self.conv3(x))  # num_examples x 120 x 1 x 1 --> num_examples x 120\n",
        "        x = x.reshape(x.shape[0], -1)\n",
        "        x = self.relu(self.linear1(x))\n",
        "        x = self.linear2(x)\n",
        "        return x"
      ],
      "execution_count": 2,
      "outputs": []
    },
    {
      "cell_type": "code",
      "metadata": {
        "colab": {
          "base_uri": "https://localhost:8080/"
        },
        "id": "K1mFPsw_gjuv",
        "outputId": "5c4701a6-5e80-4f9e-c824-6451aa3fb454"
      },
      "source": [
        "x = torch.randn(64, 1, 32, 32)\n",
        "model = LeNet()\n",
        "model(x)\n",
        "model"
      ],
      "execution_count": 3,
      "outputs": [
        {
          "output_type": "execute_result",
          "data": {
            "text/plain": [
              "LeNet(\n",
              "  (relu): ReLU()\n",
              "  (pool): AvgPool2d(kernel_size=(2, 2), stride=(2, 2), padding=0)\n",
              "  (conv1): Conv2d(1, 6, kernel_size=(5, 5), stride=(1, 1))\n",
              "  (conv2): Conv2d(6, 16, kernel_size=(5, 5), stride=(1, 1))\n",
              "  (conv3): Conv2d(16, 120, kernel_size=(5, 5), stride=(1, 1))\n",
              "  (linear1): Linear(in_features=120, out_features=84, bias=True)\n",
              "  (linear2): Linear(in_features=84, out_features=10, bias=True)\n",
              ")"
            ]
          },
          "metadata": {
            "tags": []
          },
          "execution_count": 3
        }
      ]
    }
  ]
}