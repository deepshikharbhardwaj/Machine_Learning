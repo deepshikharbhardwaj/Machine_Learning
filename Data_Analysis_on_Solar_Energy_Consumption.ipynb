{
  "nbformat": 4,
  "nbformat_minor": 0,
  "metadata": {
    "colab": {
      "name": "Data_Analysis_on_Solar_Energy_Consumption.ipynb",
      "provenance": [],
      "collapsed_sections": [],
      "include_colab_link": true
    },
    "kernelspec": {
      "name": "python3",
      "display_name": "Python 3"
    },
    "language_info": {
      "name": "python"
    }
  },
  "cells": [
    {
      "cell_type": "markdown",
      "metadata": {
        "id": "view-in-github",
        "colab_type": "text"
      },
      "source": [
        "<a href=\"https://colab.research.google.com/github/deepshikharbhardwaj/Machine_Learning/blob/main/Data_Analysis_on_Solar_Energy_Consumption.ipynb\" target=\"_parent\"><img src=\"https://colab.research.google.com/assets/colab-badge.svg\" alt=\"Open In Colab\"/></a>"
      ]
    },
    {
      "cell_type": "markdown",
      "metadata": {
        "id": "v5Oebjw7pMc4"
      },
      "source": [
        "# **Data Analysis on Solar Energy Consumption**"
      ]
    },
    {
      "cell_type": "code",
      "metadata": {
        "id": "-nZxAPYNjc7a"
      },
      "source": [
        "import pandas as pd\n",
        "import numpy as np\n",
        "import matplotlib.pyplot as plt"
      ],
      "execution_count": null,
      "outputs": []
    },
    {
      "cell_type": "code",
      "metadata": {
        "colab": {
          "base_uri": "https://localhost:8080/",
          "height": 200
        },
        "id": "1AVhBSLki_VJ",
        "outputId": "479c67ca-139e-431c-9758-0566d2e73b0f"
      },
      "source": [
        "data = pd.read_csv(\"https://raw.githubusercontent.com/deepshikharbhardwaj/IDS-Project-Growth-in-Renewable-Energy/main/total%20renewable%20share%20energy.csv\")\n",
        "df1 = pd.DataFrame(data[['Entity', 'Renewable_subenergy', 'Year_Wise', 'Total_RE_Consumption']])\n",
        "df1.head()"
      ],
      "execution_count": null,
      "outputs": [
        {
          "output_type": "execute_result",
          "data": {
            "text/html": [
              "<div>\n",
              "<style scoped>\n",
              "    .dataframe tbody tr th:only-of-type {\n",
              "        vertical-align: middle;\n",
              "    }\n",
              "\n",
              "    .dataframe tbody tr th {\n",
              "        vertical-align: top;\n",
              "    }\n",
              "\n",
              "    .dataframe thead th {\n",
              "        text-align: right;\n",
              "    }\n",
              "</style>\n",
              "<table border=\"1\" class=\"dataframe\">\n",
              "  <thead>\n",
              "    <tr style=\"text-align: right;\">\n",
              "      <th></th>\n",
              "      <th>Entity</th>\n",
              "      <th>Renewable_subenergy</th>\n",
              "      <th>Year_Wise</th>\n",
              "      <th>Total_RE_Consumption</th>\n",
              "    </tr>\n",
              "  </thead>\n",
              "  <tbody>\n",
              "    <tr>\n",
              "      <th>0</th>\n",
              "      <td>Africa</td>\n",
              "      <td>5.537</td>\n",
              "      <td>1965.0</td>\n",
              "      <td>608.083</td>\n",
              "    </tr>\n",
              "    <tr>\n",
              "      <th>1</th>\n",
              "      <td>Africa</td>\n",
              "      <td>5.873</td>\n",
              "      <td>1966.0</td>\n",
              "      <td>607.157</td>\n",
              "    </tr>\n",
              "    <tr>\n",
              "      <th>2</th>\n",
              "      <td>Africa</td>\n",
              "      <td>6.080</td>\n",
              "      <td>1967.0</td>\n",
              "      <td>605.142</td>\n",
              "    </tr>\n",
              "    <tr>\n",
              "      <th>3</th>\n",
              "      <td>Africa</td>\n",
              "      <td>6.743</td>\n",
              "      <td>1968.0</td>\n",
              "      <td>597.217</td>\n",
              "    </tr>\n",
              "    <tr>\n",
              "      <th>4</th>\n",
              "      <td>Africa</td>\n",
              "      <td>7.683</td>\n",
              "      <td>1969.0</td>\n",
              "      <td>594.925</td>\n",
              "    </tr>\n",
              "  </tbody>\n",
              "</table>\n",
              "</div>"
            ],
            "text/plain": [
              "   Entity  Renewable_subenergy  Year_Wise  Total_RE_Consumption\n",
              "0  Africa                5.537     1965.0               608.083\n",
              "1  Africa                5.873     1966.0               607.157\n",
              "2  Africa                6.080     1967.0               605.142\n",
              "3  Africa                6.743     1968.0               597.217\n",
              "4  Africa                7.683     1969.0               594.925"
            ]
          },
          "metadata": {
            "tags": []
          },
          "execution_count": 2
        }
      ]
    },
    {
      "cell_type": "code",
      "metadata": {
        "colab": {
          "base_uri": "https://localhost:8080/"
        },
        "id": "0QrxE6dFR2Sf",
        "outputId": "aef27363-cc5e-45f7-f155-ba4563c77eef"
      },
      "source": [
        "len(df1)"
      ],
      "execution_count": null,
      "outputs": [
        {
          "output_type": "execute_result",
          "data": {
            "text/plain": [
              "4284"
            ]
          },
          "metadata": {
            "tags": []
          },
          "execution_count": 3
        }
      ]
    },
    {
      "cell_type": "markdown",
      "metadata": {
        "id": "JvFJgoJWaqm_"
      },
      "source": [
        "**Slicing**"
      ]
    },
    {
      "cell_type": "code",
      "metadata": {
        "colab": {
          "base_uri": "https://localhost:8080/",
          "height": 200
        },
        "id": "dqQp3jXORPAt",
        "outputId": "c89f3308-af29-4051-fca4-da0f006a45a8"
      },
      "source": [
        "df2=df1[0:55]\n",
        "df2.head()"
      ],
      "execution_count": null,
      "outputs": [
        {
          "output_type": "execute_result",
          "data": {
            "text/html": [
              "<div>\n",
              "<style scoped>\n",
              "    .dataframe tbody tr th:only-of-type {\n",
              "        vertical-align: middle;\n",
              "    }\n",
              "\n",
              "    .dataframe tbody tr th {\n",
              "        vertical-align: top;\n",
              "    }\n",
              "\n",
              "    .dataframe thead th {\n",
              "        text-align: right;\n",
              "    }\n",
              "</style>\n",
              "<table border=\"1\" class=\"dataframe\">\n",
              "  <thead>\n",
              "    <tr style=\"text-align: right;\">\n",
              "      <th></th>\n",
              "      <th>Entity</th>\n",
              "      <th>Renewable_subenergy</th>\n",
              "      <th>Year_Wise</th>\n",
              "      <th>Total_RE_Consumption</th>\n",
              "    </tr>\n",
              "  </thead>\n",
              "  <tbody>\n",
              "    <tr>\n",
              "      <th>0</th>\n",
              "      <td>Africa</td>\n",
              "      <td>5.537</td>\n",
              "      <td>1965.0</td>\n",
              "      <td>608.083</td>\n",
              "    </tr>\n",
              "    <tr>\n",
              "      <th>1</th>\n",
              "      <td>Africa</td>\n",
              "      <td>5.873</td>\n",
              "      <td>1966.0</td>\n",
              "      <td>607.157</td>\n",
              "    </tr>\n",
              "    <tr>\n",
              "      <th>2</th>\n",
              "      <td>Africa</td>\n",
              "      <td>6.080</td>\n",
              "      <td>1967.0</td>\n",
              "      <td>605.142</td>\n",
              "    </tr>\n",
              "    <tr>\n",
              "      <th>3</th>\n",
              "      <td>Africa</td>\n",
              "      <td>6.743</td>\n",
              "      <td>1968.0</td>\n",
              "      <td>597.217</td>\n",
              "    </tr>\n",
              "    <tr>\n",
              "      <th>4</th>\n",
              "      <td>Africa</td>\n",
              "      <td>7.683</td>\n",
              "      <td>1969.0</td>\n",
              "      <td>594.925</td>\n",
              "    </tr>\n",
              "  </tbody>\n",
              "</table>\n",
              "</div>"
            ],
            "text/plain": [
              "   Entity  Renewable_subenergy  Year_Wise  Total_RE_Consumption\n",
              "0  Africa                5.537     1965.0               608.083\n",
              "1  Africa                5.873     1966.0               607.157\n",
              "2  Africa                6.080     1967.0               605.142\n",
              "3  Africa                6.743     1968.0               597.217\n",
              "4  Africa                7.683     1969.0               594.925"
            ]
          },
          "metadata": {
            "tags": []
          },
          "execution_count": 4
        }
      ]
    },
    {
      "cell_type": "code",
      "metadata": {
        "colab": {
          "base_uri": "https://localhost:8080/",
          "height": 200
        },
        "id": "Vr_wioYHTuYJ",
        "outputId": "35996007-f906-427a-da74-c78536fd2996"
      },
      "source": [
        "df2.tail()"
      ],
      "execution_count": null,
      "outputs": [
        {
          "output_type": "execute_result",
          "data": {
            "text/html": [
              "<div>\n",
              "<style scoped>\n",
              "    .dataframe tbody tr th:only-of-type {\n",
              "        vertical-align: middle;\n",
              "    }\n",
              "\n",
              "    .dataframe tbody tr th {\n",
              "        vertical-align: top;\n",
              "    }\n",
              "\n",
              "    .dataframe thead th {\n",
              "        text-align: right;\n",
              "    }\n",
              "</style>\n",
              "<table border=\"1\" class=\"dataframe\">\n",
              "  <thead>\n",
              "    <tr style=\"text-align: right;\">\n",
              "      <th></th>\n",
              "      <th>Entity</th>\n",
              "      <th>Renewable_subenergy</th>\n",
              "      <th>Year_Wise</th>\n",
              "      <th>Total_RE_Consumption</th>\n",
              "    </tr>\n",
              "  </thead>\n",
              "  <tbody>\n",
              "    <tr>\n",
              "      <th>50</th>\n",
              "      <td>Africa</td>\n",
              "      <td>7.100</td>\n",
              "      <td>2015.0</td>\n",
              "      <td>995.780</td>\n",
              "    </tr>\n",
              "    <tr>\n",
              "      <th>51</th>\n",
              "      <td>Africa</td>\n",
              "      <td>6.869</td>\n",
              "      <td>2016.0</td>\n",
              "      <td>1005.276</td>\n",
              "    </tr>\n",
              "    <tr>\n",
              "      <th>52</th>\n",
              "      <td>Africa</td>\n",
              "      <td>7.236</td>\n",
              "      <td>2017.0</td>\n",
              "      <td>1021.750</td>\n",
              "    </tr>\n",
              "    <tr>\n",
              "      <th>53</th>\n",
              "      <td>Africa</td>\n",
              "      <td>7.516</td>\n",
              "      <td>2018.0</td>\n",
              "      <td>1055.854</td>\n",
              "    </tr>\n",
              "    <tr>\n",
              "      <th>54</th>\n",
              "      <td>Africa</td>\n",
              "      <td>7.994</td>\n",
              "      <td>2019.0</td>\n",
              "      <td>1075.578</td>\n",
              "    </tr>\n",
              "  </tbody>\n",
              "</table>\n",
              "</div>"
            ],
            "text/plain": [
              "    Entity  Renewable_subenergy  Year_Wise  Total_RE_Consumption\n",
              "50  Africa                7.100     2015.0               995.780\n",
              "51  Africa                6.869     2016.0              1005.276\n",
              "52  Africa                7.236     2017.0              1021.750\n",
              "53  Africa                7.516     2018.0              1055.854\n",
              "54  Africa                7.994     2019.0              1075.578"
            ]
          },
          "metadata": {
            "tags": []
          },
          "execution_count": 5
        }
      ]
    },
    {
      "cell_type": "markdown",
      "metadata": {
        "id": "1P6VwSjWT20P"
      },
      "source": [
        "**Attributes**"
      ]
    },
    {
      "cell_type": "code",
      "metadata": {
        "colab": {
          "base_uri": "https://localhost:8080/"
        },
        "id": "L1G3Cu2bTzUx",
        "outputId": "ffc537dc-c2e6-41d8-9f64-cd98e769db9d"
      },
      "source": [
        "print(df2.index)\n",
        "print()\n",
        "\n",
        "print(df2.dtypes)\n",
        "print()\n",
        "\n",
        "print(df2.shape)\n",
        "print()\n",
        "\n",
        "print(df2.columns)#names of columns\n",
        "print()\n",
        "\n",
        "print(df2.axes) #name of columns with index values\n",
        "print()\n",
        "\n",
        "print(df2.info())#inshort info of all columns\n"
      ],
      "execution_count": null,
      "outputs": [
        {
          "output_type": "stream",
          "text": [
            "RangeIndex(start=0, stop=55, step=1)\n",
            "\n",
            "Entity                   object\n",
            "Renewable_subenergy     float64\n",
            "Year_Wise               float64\n",
            "Total_RE_Consumption    float64\n",
            "dtype: object\n",
            "\n",
            "(55, 4)\n",
            "\n",
            "Index(['Entity', 'Renewable_subenergy', 'Year_Wise', 'Total_RE_Consumption'], dtype='object')\n",
            "\n",
            "[RangeIndex(start=0, stop=55, step=1), Index(['Entity', 'Renewable_subenergy', 'Year_Wise', 'Total_RE_Consumption'], dtype='object')]\n",
            "\n",
            "<class 'pandas.core.frame.DataFrame'>\n",
            "RangeIndex: 55 entries, 0 to 54\n",
            "Data columns (total 4 columns):\n",
            " #   Column                Non-Null Count  Dtype  \n",
            "---  ------                --------------  -----  \n",
            " 0   Entity                55 non-null     object \n",
            " 1   Renewable_subenergy   55 non-null     float64\n",
            " 2   Year_Wise             55 non-null     float64\n",
            " 3   Total_RE_Consumption  55 non-null     float64\n",
            "dtypes: float64(3), object(1)\n",
            "memory usage: 1.8+ KB\n",
            "None\n"
          ],
          "name": "stdout"
        }
      ]
    },
    {
      "cell_type": "markdown",
      "metadata": {
        "id": "6gvw8ZCRSyN_"
      },
      "source": [
        "**Selecting Rows and Columns using loc[]**"
      ]
    },
    {
      "cell_type": "code",
      "metadata": {
        "colab": {
          "base_uri": "https://localhost:8080/",
          "height": 108
        },
        "id": "eKCotjo5Sps-",
        "outputId": "1f94124f-d209-4b47-a65b-a35dd7073233"
      },
      "source": [
        "# select three rows and two columns\n",
        "df2.loc[2:3, ['Year_Wise', 'Total_RE_Consumption']]"
      ],
      "execution_count": null,
      "outputs": [
        {
          "output_type": "execute_result",
          "data": {
            "text/html": [
              "<div>\n",
              "<style scoped>\n",
              "    .dataframe tbody tr th:only-of-type {\n",
              "        vertical-align: middle;\n",
              "    }\n",
              "\n",
              "    .dataframe tbody tr th {\n",
              "        vertical-align: top;\n",
              "    }\n",
              "\n",
              "    .dataframe thead th {\n",
              "        text-align: right;\n",
              "    }\n",
              "</style>\n",
              "<table border=\"1\" class=\"dataframe\">\n",
              "  <thead>\n",
              "    <tr style=\"text-align: right;\">\n",
              "      <th></th>\n",
              "      <th>Year_Wise</th>\n",
              "      <th>Total_RE_Consumption</th>\n",
              "    </tr>\n",
              "  </thead>\n",
              "  <tbody>\n",
              "    <tr>\n",
              "      <th>2</th>\n",
              "      <td>1967.0</td>\n",
              "      <td>605.142</td>\n",
              "    </tr>\n",
              "    <tr>\n",
              "      <th>3</th>\n",
              "      <td>1968.0</td>\n",
              "      <td>597.217</td>\n",
              "    </tr>\n",
              "  </tbody>\n",
              "</table>\n",
              "</div>"
            ],
            "text/plain": [
              "   Year_Wise  Total_RE_Consumption\n",
              "2     1967.0               605.142\n",
              "3     1968.0               597.217"
            ]
          },
          "metadata": {
            "tags": []
          },
          "execution_count": 7
        }
      ]
    },
    {
      "cell_type": "markdown",
      "metadata": {
        "id": "EuGchkY4S8MB"
      },
      "source": [
        "**Selecting rows and columns using iloc[]**"
      ]
    },
    {
      "cell_type": "code",
      "metadata": {
        "colab": {
          "base_uri": "https://localhost:8080/",
          "height": 108
        },
        "id": "wSkTKpqBS7r7",
        "outputId": "26065e99-7fe3-4504-c454-c51a2a03a4bb"
      },
      "source": [
        "# iloc[row slicing, column slicing]\n",
        "df2.iloc [0:2, 1:3]"
      ],
      "execution_count": null,
      "outputs": [
        {
          "output_type": "execute_result",
          "data": {
            "text/html": [
              "<div>\n",
              "<style scoped>\n",
              "    .dataframe tbody tr th:only-of-type {\n",
              "        vertical-align: middle;\n",
              "    }\n",
              "\n",
              "    .dataframe tbody tr th {\n",
              "        vertical-align: top;\n",
              "    }\n",
              "\n",
              "    .dataframe thead th {\n",
              "        text-align: right;\n",
              "    }\n",
              "</style>\n",
              "<table border=\"1\" class=\"dataframe\">\n",
              "  <thead>\n",
              "    <tr style=\"text-align: right;\">\n",
              "      <th></th>\n",
              "      <th>Renewable_subenergy</th>\n",
              "      <th>Year_Wise</th>\n",
              "    </tr>\n",
              "  </thead>\n",
              "  <tbody>\n",
              "    <tr>\n",
              "      <th>0</th>\n",
              "      <td>5.537</td>\n",
              "      <td>1965.0</td>\n",
              "    </tr>\n",
              "    <tr>\n",
              "      <th>1</th>\n",
              "      <td>5.873</td>\n",
              "      <td>1966.0</td>\n",
              "    </tr>\n",
              "  </tbody>\n",
              "</table>\n",
              "</div>"
            ],
            "text/plain": [
              "   Renewable_subenergy  Year_Wise\n",
              "0                5.537     1965.0\n",
              "1                5.873     1966.0"
            ]
          },
          "metadata": {
            "tags": []
          },
          "execution_count": 8
        }
      ]
    },
    {
      "cell_type": "markdown",
      "metadata": {
        "id": "P3TRGlOvalnN"
      },
      "source": [
        "**Data Sorting**"
      ]
    },
    {
      "cell_type": "code",
      "metadata": {
        "colab": {
          "base_uri": "https://localhost:8080/",
          "height": 1000
        },
        "id": "iZmfEq4qZ_TI",
        "outputId": "f3a4cbbe-6f77-4af6-9977-c07758feec62"
      },
      "source": [
        "df2.sort_values(by=['Total_RE_Consumption'],ascending=False)"
      ],
      "execution_count": null,
      "outputs": [
        {
          "output_type": "execute_result",
          "data": {
            "text/html": [
              "<div>\n",
              "<style scoped>\n",
              "    .dataframe tbody tr th:only-of-type {\n",
              "        vertical-align: middle;\n",
              "    }\n",
              "\n",
              "    .dataframe tbody tr th {\n",
              "        vertical-align: top;\n",
              "    }\n",
              "\n",
              "    .dataframe thead th {\n",
              "        text-align: right;\n",
              "    }\n",
              "</style>\n",
              "<table border=\"1\" class=\"dataframe\">\n",
              "  <thead>\n",
              "    <tr style=\"text-align: right;\">\n",
              "      <th></th>\n",
              "      <th>Entity</th>\n",
              "      <th>Renewable_subenergy</th>\n",
              "      <th>Year_Wise</th>\n",
              "      <th>Total_RE_Consumption</th>\n",
              "    </tr>\n",
              "  </thead>\n",
              "  <tbody>\n",
              "    <tr>\n",
              "      <th>54</th>\n",
              "      <td>Africa</td>\n",
              "      <td>7.994</td>\n",
              "      <td>2019.0</td>\n",
              "      <td>1075.578</td>\n",
              "    </tr>\n",
              "    <tr>\n",
              "      <th>53</th>\n",
              "      <td>Africa</td>\n",
              "      <td>7.516</td>\n",
              "      <td>2018.0</td>\n",
              "      <td>1055.854</td>\n",
              "    </tr>\n",
              "    <tr>\n",
              "      <th>52</th>\n",
              "      <td>Africa</td>\n",
              "      <td>7.236</td>\n",
              "      <td>2017.0</td>\n",
              "      <td>1021.750</td>\n",
              "    </tr>\n",
              "    <tr>\n",
              "      <th>51</th>\n",
              "      <td>Africa</td>\n",
              "      <td>6.869</td>\n",
              "      <td>2016.0</td>\n",
              "      <td>1005.276</td>\n",
              "    </tr>\n",
              "    <tr>\n",
              "      <th>50</th>\n",
              "      <td>Africa</td>\n",
              "      <td>7.100</td>\n",
              "      <td>2015.0</td>\n",
              "      <td>995.780</td>\n",
              "    </tr>\n",
              "    <tr>\n",
              "      <th>49</th>\n",
              "      <td>Africa</td>\n",
              "      <td>7.075</td>\n",
              "      <td>2014.0</td>\n",
              "      <td>983.367</td>\n",
              "    </tr>\n",
              "    <tr>\n",
              "      <th>48</th>\n",
              "      <td>Africa</td>\n",
              "      <td>6.804</td>\n",
              "      <td>2013.0</td>\n",
              "      <td>973.322</td>\n",
              "    </tr>\n",
              "    <tr>\n",
              "      <th>47</th>\n",
              "      <td>Africa</td>\n",
              "      <td>6.586</td>\n",
              "      <td>2012.0</td>\n",
              "      <td>910.801</td>\n",
              "    </tr>\n",
              "    <tr>\n",
              "      <th>45</th>\n",
              "      <td>Africa</td>\n",
              "      <td>6.643</td>\n",
              "      <td>2010.0</td>\n",
              "      <td>901.099</td>\n",
              "    </tr>\n",
              "    <tr>\n",
              "      <th>46</th>\n",
              "      <td>Africa</td>\n",
              "      <td>6.789</td>\n",
              "      <td>2011.0</td>\n",
              "      <td>885.995</td>\n",
              "    </tr>\n",
              "    <tr>\n",
              "      <th>44</th>\n",
              "      <td>Africa</td>\n",
              "      <td>6.371</td>\n",
              "      <td>2009.0</td>\n",
              "      <td>869.536</td>\n",
              "    </tr>\n",
              "    <tr>\n",
              "      <th>43</th>\n",
              "      <td>Africa</td>\n",
              "      <td>6.325</td>\n",
              "      <td>2008.0</td>\n",
              "      <td>824.811</td>\n",
              "    </tr>\n",
              "    <tr>\n",
              "      <th>35</th>\n",
              "      <td>Africa</td>\n",
              "      <td>6.761</td>\n",
              "      <td>2000.0</td>\n",
              "      <td>812.257</td>\n",
              "    </tr>\n",
              "    <tr>\n",
              "      <th>29</th>\n",
              "      <td>Africa</td>\n",
              "      <td>5.928</td>\n",
              "      <td>1994.0</td>\n",
              "      <td>810.098</td>\n",
              "    </tr>\n",
              "    <tr>\n",
              "      <th>30</th>\n",
              "      <td>Africa</td>\n",
              "      <td>5.929</td>\n",
              "      <td>1995.0</td>\n",
              "      <td>806.529</td>\n",
              "    </tr>\n",
              "    <tr>\n",
              "      <th>41</th>\n",
              "      <td>Africa</td>\n",
              "      <td>6.714</td>\n",
              "      <td>2006.0</td>\n",
              "      <td>805.682</td>\n",
              "    </tr>\n",
              "    <tr>\n",
              "      <th>28</th>\n",
              "      <td>Africa</td>\n",
              "      <td>6.017</td>\n",
              "      <td>1993.0</td>\n",
              "      <td>803.381</td>\n",
              "    </tr>\n",
              "    <tr>\n",
              "      <th>34</th>\n",
              "      <td>Africa</td>\n",
              "      <td>6.448</td>\n",
              "      <td>1999.0</td>\n",
              "      <td>800.963</td>\n",
              "    </tr>\n",
              "    <tr>\n",
              "      <th>42</th>\n",
              "      <td>Africa</td>\n",
              "      <td>6.619</td>\n",
              "      <td>2007.0</td>\n",
              "      <td>799.422</td>\n",
              "    </tr>\n",
              "    <tr>\n",
              "      <th>33</th>\n",
              "      <td>Africa</td>\n",
              "      <td>6.274</td>\n",
              "      <td>1998.0</td>\n",
              "      <td>796.328</td>\n",
              "    </tr>\n",
              "    <tr>\n",
              "      <th>40</th>\n",
              "      <td>Africa</td>\n",
              "      <td>6.591</td>\n",
              "      <td>2005.0</td>\n",
              "      <td>794.768</td>\n",
              "    </tr>\n",
              "    <tr>\n",
              "      <th>36</th>\n",
              "      <td>Africa</td>\n",
              "      <td>6.957</td>\n",
              "      <td>2001.0</td>\n",
              "      <td>794.734</td>\n",
              "    </tr>\n",
              "    <tr>\n",
              "      <th>39</th>\n",
              "      <td>Africa</td>\n",
              "      <td>6.556</td>\n",
              "      <td>2004.0</td>\n",
              "      <td>791.274</td>\n",
              "    </tr>\n",
              "    <tr>\n",
              "      <th>26</th>\n",
              "      <td>Africa</td>\n",
              "      <td>6.551</td>\n",
              "      <td>1991.0</td>\n",
              "      <td>786.697</td>\n",
              "    </tr>\n",
              "    <tr>\n",
              "      <th>37</th>\n",
              "      <td>Africa</td>\n",
              "      <td>7.188</td>\n",
              "      <td>2002.0</td>\n",
              "      <td>782.236</td>\n",
              "    </tr>\n",
              "    <tr>\n",
              "      <th>31</th>\n",
              "      <td>Africa</td>\n",
              "      <td>6.039</td>\n",
              "      <td>1996.0</td>\n",
              "      <td>781.838</td>\n",
              "    </tr>\n",
              "    <tr>\n",
              "      <th>32</th>\n",
              "      <td>Africa</td>\n",
              "      <td>6.080</td>\n",
              "      <td>1997.0</td>\n",
              "      <td>775.545</td>\n",
              "    </tr>\n",
              "    <tr>\n",
              "      <th>38</th>\n",
              "      <td>Africa</td>\n",
              "      <td>6.673</td>\n",
              "      <td>2003.0</td>\n",
              "      <td>773.045</td>\n",
              "    </tr>\n",
              "    <tr>\n",
              "      <th>27</th>\n",
              "      <td>Africa</td>\n",
              "      <td>6.153</td>\n",
              "      <td>1992.0</td>\n",
              "      <td>771.091</td>\n",
              "    </tr>\n",
              "    <tr>\n",
              "      <th>25</th>\n",
              "      <td>Africa</td>\n",
              "      <td>6.181</td>\n",
              "      <td>1990.0</td>\n",
              "      <td>764.855</td>\n",
              "    </tr>\n",
              "    <tr>\n",
              "      <th>23</th>\n",
              "      <td>Africa</td>\n",
              "      <td>5.984</td>\n",
              "      <td>1988.0</td>\n",
              "      <td>738.498</td>\n",
              "    </tr>\n",
              "    <tr>\n",
              "      <th>22</th>\n",
              "      <td>Africa</td>\n",
              "      <td>5.884</td>\n",
              "      <td>1987.0</td>\n",
              "      <td>728.265</td>\n",
              "    </tr>\n",
              "    <tr>\n",
              "      <th>20</th>\n",
              "      <td>Africa</td>\n",
              "      <td>6.211</td>\n",
              "      <td>1985.0</td>\n",
              "      <td>728.211</td>\n",
              "    </tr>\n",
              "    <tr>\n",
              "      <th>24</th>\n",
              "      <td>Africa</td>\n",
              "      <td>6.260</td>\n",
              "      <td>1989.0</td>\n",
              "      <td>721.081</td>\n",
              "    </tr>\n",
              "    <tr>\n",
              "      <th>21</th>\n",
              "      <td>Africa</td>\n",
              "      <td>6.320</td>\n",
              "      <td>1986.0</td>\n",
              "      <td>718.257</td>\n",
              "    </tr>\n",
              "    <tr>\n",
              "      <th>19</th>\n",
              "      <td>Africa</td>\n",
              "      <td>5.804</td>\n",
              "      <td>1984.0</td>\n",
              "      <td>701.845</td>\n",
              "    </tr>\n",
              "    <tr>\n",
              "      <th>18</th>\n",
              "      <td>Africa</td>\n",
              "      <td>6.094</td>\n",
              "      <td>1983.0</td>\n",
              "      <td>677.736</td>\n",
              "    </tr>\n",
              "    <tr>\n",
              "      <th>17</th>\n",
              "      <td>Africa</td>\n",
              "      <td>6.941</td>\n",
              "      <td>1982.0</td>\n",
              "      <td>669.116</td>\n",
              "    </tr>\n",
              "    <tr>\n",
              "      <th>16</th>\n",
              "      <td>Africa</td>\n",
              "      <td>7.406</td>\n",
              "      <td>1981.0</td>\n",
              "      <td>660.914</td>\n",
              "    </tr>\n",
              "    <tr>\n",
              "      <th>14</th>\n",
              "      <td>Africa</td>\n",
              "      <td>8.741</td>\n",
              "      <td>1979.0</td>\n",
              "      <td>645.841</td>\n",
              "    </tr>\n",
              "    <tr>\n",
              "      <th>15</th>\n",
              "      <td>Africa</td>\n",
              "      <td>7.937</td>\n",
              "      <td>1980.0</td>\n",
              "      <td>645.260</td>\n",
              "    </tr>\n",
              "    <tr>\n",
              "      <th>10</th>\n",
              "      <td>Africa</td>\n",
              "      <td>8.724</td>\n",
              "      <td>1975.0</td>\n",
              "      <td>630.364</td>\n",
              "    </tr>\n",
              "    <tr>\n",
              "      <th>13</th>\n",
              "      <td>Africa</td>\n",
              "      <td>8.955</td>\n",
              "      <td>1978.0</td>\n",
              "      <td>628.899</td>\n",
              "    </tr>\n",
              "    <tr>\n",
              "      <th>12</th>\n",
              "      <td>Africa</td>\n",
              "      <td>9.222</td>\n",
              "      <td>1977.0</td>\n",
              "      <td>627.081</td>\n",
              "    </tr>\n",
              "    <tr>\n",
              "      <th>9</th>\n",
              "      <td>Africa</td>\n",
              "      <td>8.735</td>\n",
              "      <td>1974.0</td>\n",
              "      <td>617.469</td>\n",
              "    </tr>\n",
              "    <tr>\n",
              "      <th>0</th>\n",
              "      <td>Africa</td>\n",
              "      <td>5.537</td>\n",
              "      <td>1965.0</td>\n",
              "      <td>608.083</td>\n",
              "    </tr>\n",
              "    <tr>\n",
              "      <th>1</th>\n",
              "      <td>Africa</td>\n",
              "      <td>5.873</td>\n",
              "      <td>1966.0</td>\n",
              "      <td>607.157</td>\n",
              "    </tr>\n",
              "    <tr>\n",
              "      <th>2</th>\n",
              "      <td>Africa</td>\n",
              "      <td>6.080</td>\n",
              "      <td>1967.0</td>\n",
              "      <td>605.142</td>\n",
              "    </tr>\n",
              "    <tr>\n",
              "      <th>11</th>\n",
              "      <td>Africa</td>\n",
              "      <td>8.829</td>\n",
              "      <td>1976.0</td>\n",
              "      <td>597.791</td>\n",
              "    </tr>\n",
              "    <tr>\n",
              "      <th>3</th>\n",
              "      <td>Africa</td>\n",
              "      <td>6.743</td>\n",
              "      <td>1968.0</td>\n",
              "      <td>597.217</td>\n",
              "    </tr>\n",
              "    <tr>\n",
              "      <th>4</th>\n",
              "      <td>Africa</td>\n",
              "      <td>7.683</td>\n",
              "      <td>1969.0</td>\n",
              "      <td>594.925</td>\n",
              "    </tr>\n",
              "    <tr>\n",
              "      <th>7</th>\n",
              "      <td>Africa</td>\n",
              "      <td>8.241</td>\n",
              "      <td>1972.0</td>\n",
              "      <td>593.189</td>\n",
              "    </tr>\n",
              "    <tr>\n",
              "      <th>5</th>\n",
              "      <td>Africa</td>\n",
              "      <td>8.807</td>\n",
              "      <td>1970.0</td>\n",
              "      <td>590.206</td>\n",
              "    </tr>\n",
              "    <tr>\n",
              "      <th>6</th>\n",
              "      <td>Africa</td>\n",
              "      <td>7.677</td>\n",
              "      <td>1971.0</td>\n",
              "      <td>589.068</td>\n",
              "    </tr>\n",
              "    <tr>\n",
              "      <th>8</th>\n",
              "      <td>Africa</td>\n",
              "      <td>8.050</td>\n",
              "      <td>1973.0</td>\n",
              "      <td>574.906</td>\n",
              "    </tr>\n",
              "  </tbody>\n",
              "</table>\n",
              "</div>"
            ],
            "text/plain": [
              "    Entity  Renewable_subenergy  Year_Wise  Total_RE_Consumption\n",
              "54  Africa                7.994     2019.0              1075.578\n",
              "53  Africa                7.516     2018.0              1055.854\n",
              "52  Africa                7.236     2017.0              1021.750\n",
              "51  Africa                6.869     2016.0              1005.276\n",
              "50  Africa                7.100     2015.0               995.780\n",
              "49  Africa                7.075     2014.0               983.367\n",
              "48  Africa                6.804     2013.0               973.322\n",
              "47  Africa                6.586     2012.0               910.801\n",
              "45  Africa                6.643     2010.0               901.099\n",
              "46  Africa                6.789     2011.0               885.995\n",
              "44  Africa                6.371     2009.0               869.536\n",
              "43  Africa                6.325     2008.0               824.811\n",
              "35  Africa                6.761     2000.0               812.257\n",
              "29  Africa                5.928     1994.0               810.098\n",
              "30  Africa                5.929     1995.0               806.529\n",
              "41  Africa                6.714     2006.0               805.682\n",
              "28  Africa                6.017     1993.0               803.381\n",
              "34  Africa                6.448     1999.0               800.963\n",
              "42  Africa                6.619     2007.0               799.422\n",
              "33  Africa                6.274     1998.0               796.328\n",
              "40  Africa                6.591     2005.0               794.768\n",
              "36  Africa                6.957     2001.0               794.734\n",
              "39  Africa                6.556     2004.0               791.274\n",
              "26  Africa                6.551     1991.0               786.697\n",
              "37  Africa                7.188     2002.0               782.236\n",
              "31  Africa                6.039     1996.0               781.838\n",
              "32  Africa                6.080     1997.0               775.545\n",
              "38  Africa                6.673     2003.0               773.045\n",
              "27  Africa                6.153     1992.0               771.091\n",
              "25  Africa                6.181     1990.0               764.855\n",
              "23  Africa                5.984     1988.0               738.498\n",
              "22  Africa                5.884     1987.0               728.265\n",
              "20  Africa                6.211     1985.0               728.211\n",
              "24  Africa                6.260     1989.0               721.081\n",
              "21  Africa                6.320     1986.0               718.257\n",
              "19  Africa                5.804     1984.0               701.845\n",
              "18  Africa                6.094     1983.0               677.736\n",
              "17  Africa                6.941     1982.0               669.116\n",
              "16  Africa                7.406     1981.0               660.914\n",
              "14  Africa                8.741     1979.0               645.841\n",
              "15  Africa                7.937     1980.0               645.260\n",
              "10  Africa                8.724     1975.0               630.364\n",
              "13  Africa                8.955     1978.0               628.899\n",
              "12  Africa                9.222     1977.0               627.081\n",
              "9   Africa                8.735     1974.0               617.469\n",
              "0   Africa                5.537     1965.0               608.083\n",
              "1   Africa                5.873     1966.0               607.157\n",
              "2   Africa                6.080     1967.0               605.142\n",
              "11  Africa                8.829     1976.0               597.791\n",
              "3   Africa                6.743     1968.0               597.217\n",
              "4   Africa                7.683     1969.0               594.925\n",
              "7   Africa                8.241     1972.0               593.189\n",
              "5   Africa                8.807     1970.0               590.206\n",
              "6   Africa                7.677     1971.0               589.068\n",
              "8   Africa                8.050     1973.0               574.906"
            ]
          },
          "metadata": {
            "tags": []
          },
          "execution_count": 9
        }
      ]
    },
    {
      "cell_type": "markdown",
      "metadata": {
        "id": "AZB7NFAqYbEK"
      },
      "source": [
        "**Adding a column to Dataframe and applying functions**"
      ]
    },
    {
      "cell_type": "code",
      "metadata": {
        "colab": {
          "base_uri": "https://localhost:8080/",
          "height": 297
        },
        "id": "N579wrXIbFoJ",
        "outputId": "c71671e5-3be1-4a77-9499-dabdf2c6c3fc"
      },
      "source": [
        "df2['Status'] = df2['Total_RE_Consumption'].apply(lambda x: 'low' if x < 900 else 'high')\n",
        "df2.head()\n"
      ],
      "execution_count": null,
      "outputs": [
        {
          "output_type": "stream",
          "text": [
            "/usr/local/lib/python3.7/dist-packages/ipykernel_launcher.py:1: SettingWithCopyWarning: \n",
            "A value is trying to be set on a copy of a slice from a DataFrame.\n",
            "Try using .loc[row_indexer,col_indexer] = value instead\n",
            "\n",
            "See the caveats in the documentation: https://pandas.pydata.org/pandas-docs/stable/user_guide/indexing.html#returning-a-view-versus-a-copy\n",
            "  \"\"\"Entry point for launching an IPython kernel.\n"
          ],
          "name": "stderr"
        },
        {
          "output_type": "execute_result",
          "data": {
            "text/html": [
              "<div>\n",
              "<style scoped>\n",
              "    .dataframe tbody tr th:only-of-type {\n",
              "        vertical-align: middle;\n",
              "    }\n",
              "\n",
              "    .dataframe tbody tr th {\n",
              "        vertical-align: top;\n",
              "    }\n",
              "\n",
              "    .dataframe thead th {\n",
              "        text-align: right;\n",
              "    }\n",
              "</style>\n",
              "<table border=\"1\" class=\"dataframe\">\n",
              "  <thead>\n",
              "    <tr style=\"text-align: right;\">\n",
              "      <th></th>\n",
              "      <th>Entity</th>\n",
              "      <th>Renewable_subenergy</th>\n",
              "      <th>Year_Wise</th>\n",
              "      <th>Total_RE_Consumption</th>\n",
              "      <th>Status</th>\n",
              "    </tr>\n",
              "  </thead>\n",
              "  <tbody>\n",
              "    <tr>\n",
              "      <th>0</th>\n",
              "      <td>Africa</td>\n",
              "      <td>5.537</td>\n",
              "      <td>1965.0</td>\n",
              "      <td>608.083</td>\n",
              "      <td>low</td>\n",
              "    </tr>\n",
              "    <tr>\n",
              "      <th>1</th>\n",
              "      <td>Africa</td>\n",
              "      <td>5.873</td>\n",
              "      <td>1966.0</td>\n",
              "      <td>607.157</td>\n",
              "      <td>low</td>\n",
              "    </tr>\n",
              "    <tr>\n",
              "      <th>2</th>\n",
              "      <td>Africa</td>\n",
              "      <td>6.080</td>\n",
              "      <td>1967.0</td>\n",
              "      <td>605.142</td>\n",
              "      <td>low</td>\n",
              "    </tr>\n",
              "    <tr>\n",
              "      <th>3</th>\n",
              "      <td>Africa</td>\n",
              "      <td>6.743</td>\n",
              "      <td>1968.0</td>\n",
              "      <td>597.217</td>\n",
              "      <td>low</td>\n",
              "    </tr>\n",
              "    <tr>\n",
              "      <th>4</th>\n",
              "      <td>Africa</td>\n",
              "      <td>7.683</td>\n",
              "      <td>1969.0</td>\n",
              "      <td>594.925</td>\n",
              "      <td>low</td>\n",
              "    </tr>\n",
              "  </tbody>\n",
              "</table>\n",
              "</div>"
            ],
            "text/plain": [
              "   Entity  Renewable_subenergy  Year_Wise  Total_RE_Consumption Status\n",
              "0  Africa                5.537     1965.0               608.083    low\n",
              "1  Africa                5.873     1966.0               607.157    low\n",
              "2  Africa                6.080     1967.0               605.142    low\n",
              "3  Africa                6.743     1968.0               597.217    low\n",
              "4  Africa                7.683     1969.0               594.925    low"
            ]
          },
          "metadata": {
            "tags": []
          },
          "execution_count": 10
        }
      ]
    },
    {
      "cell_type": "code",
      "metadata": {
        "colab": {
          "base_uri": "https://localhost:8080/",
          "height": 200
        },
        "id": "YgrhHHcSbR37",
        "outputId": "190cb19d-3b43-421d-f2dd-1ba9a8e3cb10"
      },
      "source": [
        "df2.tail()"
      ],
      "execution_count": null,
      "outputs": [
        {
          "output_type": "execute_result",
          "data": {
            "text/html": [
              "<div>\n",
              "<style scoped>\n",
              "    .dataframe tbody tr th:only-of-type {\n",
              "        vertical-align: middle;\n",
              "    }\n",
              "\n",
              "    .dataframe tbody tr th {\n",
              "        vertical-align: top;\n",
              "    }\n",
              "\n",
              "    .dataframe thead th {\n",
              "        text-align: right;\n",
              "    }\n",
              "</style>\n",
              "<table border=\"1\" class=\"dataframe\">\n",
              "  <thead>\n",
              "    <tr style=\"text-align: right;\">\n",
              "      <th></th>\n",
              "      <th>Entity</th>\n",
              "      <th>Renewable_subenergy</th>\n",
              "      <th>Year_Wise</th>\n",
              "      <th>Total_RE_Consumption</th>\n",
              "      <th>Status</th>\n",
              "    </tr>\n",
              "  </thead>\n",
              "  <tbody>\n",
              "    <tr>\n",
              "      <th>50</th>\n",
              "      <td>Africa</td>\n",
              "      <td>7.100</td>\n",
              "      <td>2015.0</td>\n",
              "      <td>995.780</td>\n",
              "      <td>high</td>\n",
              "    </tr>\n",
              "    <tr>\n",
              "      <th>51</th>\n",
              "      <td>Africa</td>\n",
              "      <td>6.869</td>\n",
              "      <td>2016.0</td>\n",
              "      <td>1005.276</td>\n",
              "      <td>high</td>\n",
              "    </tr>\n",
              "    <tr>\n",
              "      <th>52</th>\n",
              "      <td>Africa</td>\n",
              "      <td>7.236</td>\n",
              "      <td>2017.0</td>\n",
              "      <td>1021.750</td>\n",
              "      <td>high</td>\n",
              "    </tr>\n",
              "    <tr>\n",
              "      <th>53</th>\n",
              "      <td>Africa</td>\n",
              "      <td>7.516</td>\n",
              "      <td>2018.0</td>\n",
              "      <td>1055.854</td>\n",
              "      <td>high</td>\n",
              "    </tr>\n",
              "    <tr>\n",
              "      <th>54</th>\n",
              "      <td>Africa</td>\n",
              "      <td>7.994</td>\n",
              "      <td>2019.0</td>\n",
              "      <td>1075.578</td>\n",
              "      <td>high</td>\n",
              "    </tr>\n",
              "  </tbody>\n",
              "</table>\n",
              "</div>"
            ],
            "text/plain": [
              "    Entity  Renewable_subenergy  Year_Wise  Total_RE_Consumption Status\n",
              "50  Africa                7.100     2015.0               995.780   high\n",
              "51  Africa                6.869     2016.0              1005.276   high\n",
              "52  Africa                7.236     2017.0              1021.750   high\n",
              "53  Africa                7.516     2018.0              1055.854   high\n",
              "54  Africa                7.994     2019.0              1075.578   high"
            ]
          },
          "metadata": {
            "tags": []
          },
          "execution_count": 11
        }
      ]
    },
    {
      "cell_type": "markdown",
      "metadata": {
        "id": "npI_qcfvSSML"
      },
      "source": [
        "**Getting columns from dataframe**"
      ]
    },
    {
      "cell_type": "code",
      "metadata": {
        "colab": {
          "base_uri": "https://localhost:8080/",
          "height": 200
        },
        "id": "vBfWoNHdRlg4",
        "outputId": "4fd354c5-71d0-4786-f8f6-d793a593c485"
      },
      "source": [
        "df_new=df2[df2.columns[2:4]]\n",
        "df_new.head()"
      ],
      "execution_count": null,
      "outputs": [
        {
          "output_type": "execute_result",
          "data": {
            "text/html": [
              "<div>\n",
              "<style scoped>\n",
              "    .dataframe tbody tr th:only-of-type {\n",
              "        vertical-align: middle;\n",
              "    }\n",
              "\n",
              "    .dataframe tbody tr th {\n",
              "        vertical-align: top;\n",
              "    }\n",
              "\n",
              "    .dataframe thead th {\n",
              "        text-align: right;\n",
              "    }\n",
              "</style>\n",
              "<table border=\"1\" class=\"dataframe\">\n",
              "  <thead>\n",
              "    <tr style=\"text-align: right;\">\n",
              "      <th></th>\n",
              "      <th>Year_Wise</th>\n",
              "      <th>Total_RE_Consumption</th>\n",
              "    </tr>\n",
              "  </thead>\n",
              "  <tbody>\n",
              "    <tr>\n",
              "      <th>0</th>\n",
              "      <td>1965.0</td>\n",
              "      <td>608.083</td>\n",
              "    </tr>\n",
              "    <tr>\n",
              "      <th>1</th>\n",
              "      <td>1966.0</td>\n",
              "      <td>607.157</td>\n",
              "    </tr>\n",
              "    <tr>\n",
              "      <th>2</th>\n",
              "      <td>1967.0</td>\n",
              "      <td>605.142</td>\n",
              "    </tr>\n",
              "    <tr>\n",
              "      <th>3</th>\n",
              "      <td>1968.0</td>\n",
              "      <td>597.217</td>\n",
              "    </tr>\n",
              "    <tr>\n",
              "      <th>4</th>\n",
              "      <td>1969.0</td>\n",
              "      <td>594.925</td>\n",
              "    </tr>\n",
              "  </tbody>\n",
              "</table>\n",
              "</div>"
            ],
            "text/plain": [
              "   Year_Wise  Total_RE_Consumption\n",
              "0     1965.0               608.083\n",
              "1     1966.0               607.157\n",
              "2     1967.0               605.142\n",
              "3     1968.0               597.217\n",
              "4     1969.0               594.925"
            ]
          },
          "metadata": {
            "tags": []
          },
          "execution_count": 12
        }
      ]
    },
    {
      "cell_type": "markdown",
      "metadata": {
        "id": "IOllnEpSVdTB"
      },
      "source": [
        "**Statistical operations**"
      ]
    },
    {
      "cell_type": "code",
      "metadata": {
        "colab": {
          "base_uri": "https://localhost:8080/",
          "height": 290
        },
        "id": "lfq-d9HPRhTk",
        "outputId": "185af82f-8c0b-44bc-8a3d-b57fd1bbcc93"
      },
      "source": [
        "df_new.describe()"
      ],
      "execution_count": null,
      "outputs": [
        {
          "output_type": "execute_result",
          "data": {
            "text/html": [
              "<div>\n",
              "<style scoped>\n",
              "    .dataframe tbody tr th:only-of-type {\n",
              "        vertical-align: middle;\n",
              "    }\n",
              "\n",
              "    .dataframe tbody tr th {\n",
              "        vertical-align: top;\n",
              "    }\n",
              "\n",
              "    .dataframe thead th {\n",
              "        text-align: right;\n",
              "    }\n",
              "</style>\n",
              "<table border=\"1\" class=\"dataframe\">\n",
              "  <thead>\n",
              "    <tr style=\"text-align: right;\">\n",
              "      <th></th>\n",
              "      <th>Year_Wise</th>\n",
              "      <th>Total_RE_Consumption</th>\n",
              "    </tr>\n",
              "  </thead>\n",
              "  <tbody>\n",
              "    <tr>\n",
              "      <th>count</th>\n",
              "      <td>55.00000</td>\n",
              "      <td>55.000000</td>\n",
              "    </tr>\n",
              "    <tr>\n",
              "      <th>mean</th>\n",
              "      <td>1992.00000</td>\n",
              "      <td>760.916964</td>\n",
              "    </tr>\n",
              "    <tr>\n",
              "      <th>std</th>\n",
              "      <td>16.02082</td>\n",
              "      <td>133.733714</td>\n",
              "    </tr>\n",
              "    <tr>\n",
              "      <th>min</th>\n",
              "      <td>1965.00000</td>\n",
              "      <td>574.906000</td>\n",
              "    </tr>\n",
              "    <tr>\n",
              "      <th>25%</th>\n",
              "      <td>1978.50000</td>\n",
              "      <td>637.812000</td>\n",
              "    </tr>\n",
              "    <tr>\n",
              "      <th>50%</th>\n",
              "      <td>1992.00000</td>\n",
              "      <td>773.045000</td>\n",
              "    </tr>\n",
              "    <tr>\n",
              "      <th>75%</th>\n",
              "      <td>2005.50000</td>\n",
              "      <td>808.313500</td>\n",
              "    </tr>\n",
              "    <tr>\n",
              "      <th>max</th>\n",
              "      <td>2019.00000</td>\n",
              "      <td>1075.578000</td>\n",
              "    </tr>\n",
              "  </tbody>\n",
              "</table>\n",
              "</div>"
            ],
            "text/plain": [
              "        Year_Wise  Total_RE_Consumption\n",
              "count    55.00000             55.000000\n",
              "mean   1992.00000            760.916964\n",
              "std      16.02082            133.733714\n",
              "min    1965.00000            574.906000\n",
              "25%    1978.50000            637.812000\n",
              "50%    1992.00000            773.045000\n",
              "75%    2005.50000            808.313500\n",
              "max    2019.00000           1075.578000"
            ]
          },
          "metadata": {
            "tags": []
          },
          "execution_count": 13
        }
      ]
    },
    {
      "cell_type": "code",
      "metadata": {
        "colab": {
          "base_uri": "https://localhost:8080/"
        },
        "id": "BqaEHgpoVakw",
        "outputId": "3e6a02ec-07c3-4cb7-f712-f348ad486623"
      },
      "source": [
        "print(df_new.count())\n",
        "print()\n",
        "\n",
        "print('Mean:\\n',df_new.mean())\n",
        "\n",
        "print('\\n Minimum:\\n',df_new.min())"
      ],
      "execution_count": null,
      "outputs": [
        {
          "output_type": "stream",
          "text": [
            "Year_Wise               55\n",
            "Total_RE_Consumption    55\n",
            "dtype: int64\n",
            "\n",
            "Mean:\n",
            " Year_Wise               1992.000000\n",
            "Total_RE_Consumption     760.916964\n",
            "dtype: float64\n",
            "\n",
            " Minimum:\n",
            " Year_Wise               1965.000\n",
            "Total_RE_Consumption     574.906\n",
            "dtype: float64\n"
          ],
          "name": "stdout"
        }
      ]
    },
    {
      "cell_type": "markdown",
      "metadata": {
        "id": "jMPKcVhsWAwB"
      },
      "source": [
        "**Data Filtering**"
      ]
    },
    {
      "cell_type": "code",
      "metadata": {
        "colab": {
          "base_uri": "https://localhost:8080/",
          "height": 320
        },
        "id": "2wMM8iwfYAaA",
        "outputId": "27a846dc-5db2-427d-80ca-cf3ea65843fc"
      },
      "source": [
        "df_new.query('Total_RE_Consumption > 900')"
      ],
      "execution_count": null,
      "outputs": [
        {
          "output_type": "execute_result",
          "data": {
            "text/html": [
              "<div>\n",
              "<style scoped>\n",
              "    .dataframe tbody tr th:only-of-type {\n",
              "        vertical-align: middle;\n",
              "    }\n",
              "\n",
              "    .dataframe tbody tr th {\n",
              "        vertical-align: top;\n",
              "    }\n",
              "\n",
              "    .dataframe thead th {\n",
              "        text-align: right;\n",
              "    }\n",
              "</style>\n",
              "<table border=\"1\" class=\"dataframe\">\n",
              "  <thead>\n",
              "    <tr style=\"text-align: right;\">\n",
              "      <th></th>\n",
              "      <th>Year_Wise</th>\n",
              "      <th>Total_RE_Consumption</th>\n",
              "    </tr>\n",
              "  </thead>\n",
              "  <tbody>\n",
              "    <tr>\n",
              "      <th>45</th>\n",
              "      <td>2010.0</td>\n",
              "      <td>901.099</td>\n",
              "    </tr>\n",
              "    <tr>\n",
              "      <th>47</th>\n",
              "      <td>2012.0</td>\n",
              "      <td>910.801</td>\n",
              "    </tr>\n",
              "    <tr>\n",
              "      <th>48</th>\n",
              "      <td>2013.0</td>\n",
              "      <td>973.322</td>\n",
              "    </tr>\n",
              "    <tr>\n",
              "      <th>49</th>\n",
              "      <td>2014.0</td>\n",
              "      <td>983.367</td>\n",
              "    </tr>\n",
              "    <tr>\n",
              "      <th>50</th>\n",
              "      <td>2015.0</td>\n",
              "      <td>995.780</td>\n",
              "    </tr>\n",
              "    <tr>\n",
              "      <th>51</th>\n",
              "      <td>2016.0</td>\n",
              "      <td>1005.276</td>\n",
              "    </tr>\n",
              "    <tr>\n",
              "      <th>52</th>\n",
              "      <td>2017.0</td>\n",
              "      <td>1021.750</td>\n",
              "    </tr>\n",
              "    <tr>\n",
              "      <th>53</th>\n",
              "      <td>2018.0</td>\n",
              "      <td>1055.854</td>\n",
              "    </tr>\n",
              "    <tr>\n",
              "      <th>54</th>\n",
              "      <td>2019.0</td>\n",
              "      <td>1075.578</td>\n",
              "    </tr>\n",
              "  </tbody>\n",
              "</table>\n",
              "</div>"
            ],
            "text/plain": [
              "    Year_Wise  Total_RE_Consumption\n",
              "45     2010.0               901.099\n",
              "47     2012.0               910.801\n",
              "48     2013.0               973.322\n",
              "49     2014.0               983.367\n",
              "50     2015.0               995.780\n",
              "51     2016.0              1005.276\n",
              "52     2017.0              1021.750\n",
              "53     2018.0              1055.854\n",
              "54     2019.0              1075.578"
            ]
          },
          "metadata": {
            "tags": []
          },
          "execution_count": 15
        }
      ]
    },
    {
      "cell_type": "code",
      "metadata": {
        "colab": {
          "base_uri": "https://localhost:8080/",
          "height": 441
        },
        "id": "vzgNgLqGV_64",
        "outputId": "1c9314dc-19ca-4ff5-b065-cccc39b0b621"
      },
      "source": [
        "df_new[(df_new.Total_RE_Consumption > 800 ) & (df_new.Year_Wise>2000)]"
      ],
      "execution_count": null,
      "outputs": [
        {
          "output_type": "execute_result",
          "data": {
            "text/html": [
              "<div>\n",
              "<style scoped>\n",
              "    .dataframe tbody tr th:only-of-type {\n",
              "        vertical-align: middle;\n",
              "    }\n",
              "\n",
              "    .dataframe tbody tr th {\n",
              "        vertical-align: top;\n",
              "    }\n",
              "\n",
              "    .dataframe thead th {\n",
              "        text-align: right;\n",
              "    }\n",
              "</style>\n",
              "<table border=\"1\" class=\"dataframe\">\n",
              "  <thead>\n",
              "    <tr style=\"text-align: right;\">\n",
              "      <th></th>\n",
              "      <th>Year_Wise</th>\n",
              "      <th>Total_RE_Consumption</th>\n",
              "    </tr>\n",
              "  </thead>\n",
              "  <tbody>\n",
              "    <tr>\n",
              "      <th>41</th>\n",
              "      <td>2006.0</td>\n",
              "      <td>805.682</td>\n",
              "    </tr>\n",
              "    <tr>\n",
              "      <th>43</th>\n",
              "      <td>2008.0</td>\n",
              "      <td>824.811</td>\n",
              "    </tr>\n",
              "    <tr>\n",
              "      <th>44</th>\n",
              "      <td>2009.0</td>\n",
              "      <td>869.536</td>\n",
              "    </tr>\n",
              "    <tr>\n",
              "      <th>45</th>\n",
              "      <td>2010.0</td>\n",
              "      <td>901.099</td>\n",
              "    </tr>\n",
              "    <tr>\n",
              "      <th>46</th>\n",
              "      <td>2011.0</td>\n",
              "      <td>885.995</td>\n",
              "    </tr>\n",
              "    <tr>\n",
              "      <th>47</th>\n",
              "      <td>2012.0</td>\n",
              "      <td>910.801</td>\n",
              "    </tr>\n",
              "    <tr>\n",
              "      <th>48</th>\n",
              "      <td>2013.0</td>\n",
              "      <td>973.322</td>\n",
              "    </tr>\n",
              "    <tr>\n",
              "      <th>49</th>\n",
              "      <td>2014.0</td>\n",
              "      <td>983.367</td>\n",
              "    </tr>\n",
              "    <tr>\n",
              "      <th>50</th>\n",
              "      <td>2015.0</td>\n",
              "      <td>995.780</td>\n",
              "    </tr>\n",
              "    <tr>\n",
              "      <th>51</th>\n",
              "      <td>2016.0</td>\n",
              "      <td>1005.276</td>\n",
              "    </tr>\n",
              "    <tr>\n",
              "      <th>52</th>\n",
              "      <td>2017.0</td>\n",
              "      <td>1021.750</td>\n",
              "    </tr>\n",
              "    <tr>\n",
              "      <th>53</th>\n",
              "      <td>2018.0</td>\n",
              "      <td>1055.854</td>\n",
              "    </tr>\n",
              "    <tr>\n",
              "      <th>54</th>\n",
              "      <td>2019.0</td>\n",
              "      <td>1075.578</td>\n",
              "    </tr>\n",
              "  </tbody>\n",
              "</table>\n",
              "</div>"
            ],
            "text/plain": [
              "    Year_Wise  Total_RE_Consumption\n",
              "41     2006.0               805.682\n",
              "43     2008.0               824.811\n",
              "44     2009.0               869.536\n",
              "45     2010.0               901.099\n",
              "46     2011.0               885.995\n",
              "47     2012.0               910.801\n",
              "48     2013.0               973.322\n",
              "49     2014.0               983.367\n",
              "50     2015.0               995.780\n",
              "51     2016.0              1005.276\n",
              "52     2017.0              1021.750\n",
              "53     2018.0              1055.854\n",
              "54     2019.0              1075.578"
            ]
          },
          "metadata": {
            "tags": []
          },
          "execution_count": 16
        }
      ]
    },
    {
      "cell_type": "markdown",
      "metadata": {
        "id": "mas3w7uBoivM"
      },
      "source": [
        "# **Linear Regression**"
      ]
    },
    {
      "cell_type": "code",
      "metadata": {
        "id": "WZ0jlsT6kuM4"
      },
      "source": [
        "X=np.array((df_new['Year_Wise']))\n",
        "Y=np.array(df_new['Total_RE_Consumption'])"
      ],
      "execution_count": null,
      "outputs": []
    },
    {
      "cell_type": "code",
      "metadata": {
        "colab": {
          "base_uri": "https://localhost:8080/"
        },
        "id": "wO1d0YPlmOFI",
        "outputId": "06916279-6800-4097-e8eb-9f66758f12b1"
      },
      "source": [
        "from sklearn.model_selection import train_test_split\n",
        "xTrain, xTest, yTrain, yTest = train_test_split(X,Y, test_size = 0.2)\n",
        "print(X)\n",
        "print(\"shape of original dataset :\", df_new.shape)\n",
        "print(\"shape of input - training set\", xTrain.shape)\n",
        "print(\"shape of output - training set\", yTrain.shape)\n",
        "print(\"shape of input - testing set\", xTest.shape)\n",
        "print(\"shape of output - testing set\", yTest.shape)"
      ],
      "execution_count": null,
      "outputs": [
        {
          "output_type": "stream",
          "text": [
            "[1965. 1966. 1967. 1968. 1969. 1970. 1971. 1972. 1973. 1974. 1975. 1976.\n",
            " 1977. 1978. 1979. 1980. 1981. 1982. 1983. 1984. 1985. 1986. 1987. 1988.\n",
            " 1989. 1990. 1991. 1992. 1993. 1994. 1995. 1996. 1997. 1998. 1999. 2000.\n",
            " 2001. 2002. 2003. 2004. 2005. 2006. 2007. 2008. 2009. 2010. 2011. 2012.\n",
            " 2013. 2014. 2015. 2016. 2017. 2018. 2019.]\n",
            "shape of original dataset : (55, 2)\n",
            "shape of input - training set (44,)\n",
            "shape of output - training set (44,)\n",
            "shape of input - testing set (11,)\n",
            "shape of output - testing set (11,)\n"
          ],
          "name": "stdout"
        }
      ]
    },
    {
      "cell_type": "code",
      "metadata": {
        "colab": {
          "base_uri": "https://localhost:8080/"
        },
        "id": "qSRtivJ1m1ui",
        "outputId": "ff1e68ce-df35-4db3-d75e-c480de2b7619"
      },
      "source": [
        "import numpy as np\n",
        "\n",
        "x = np.array(df_new['Year_Wise'])\n",
        "x = x.reshape(-1,1)\n",
        "print(x.shape)\n",
        "\n",
        "y = np.array(df_new['Total_RE_Consumption'])\n",
        "y = y.reshape(-1,1)\n",
        "print(y.shape)"
      ],
      "execution_count": null,
      "outputs": [
        {
          "output_type": "stream",
          "text": [
            "(55, 1)\n",
            "(55, 1)\n"
          ],
          "name": "stdout"
        }
      ]
    },
    {
      "cell_type": "markdown",
      "metadata": {
        "id": "I19qOSaMCMDl"
      },
      "source": [
        "##Linear Regression\n",
        "---"
      ]
    },
    {
      "cell_type": "code",
      "metadata": {
        "id": "lbmXlB-AFfvu"
      },
      "source": [
        "from sklearn.linear_model import LinearRegression"
      ],
      "execution_count": null,
      "outputs": []
    },
    {
      "cell_type": "code",
      "metadata": {
        "id": "-Qx_RuGJBbbs"
      },
      "source": [
        "#model = LinearRegression().fit(X,Y) #Input should be a single dimensional\n",
        "model = LinearRegression().fit(X.reshape(-1,1),Y.reshape(-1,1)) #fit() -> Obtains the best parameter values i.e. m and c"
      ],
      "execution_count": null,
      "outputs": []
    },
    {
      "cell_type": "code",
      "metadata": {
        "colab": {
          "base_uri": "https://localhost:8080/"
        },
        "id": "i1koZHM6GURO",
        "outputId": "4821597f-9494-40f3-8db3-09ab792bd6b3"
      },
      "source": [
        "y_predict = model.predict(xTest.reshape(-1,1)) #on the test dataset obtain the predicted value\n",
        "print(y_predict)"
      ],
      "execution_count": null,
      "outputs": [
        {
          "output_type": "stream",
          "text": [
            "[[546.04227922]\n",
            " [880.29178831]\n",
            " [904.16675325]\n",
            " [824.5835368 ]\n",
            " [816.62521515]\n",
            " [840.50018009]\n",
            " [609.70885238]\n",
            " [888.25010996]\n",
            " [975.79164805]\n",
            " [928.04171818]\n",
            " [721.12535541]]\n"
          ],
          "name": "stdout"
        }
      ]
    },
    {
      "cell_type": "markdown",
      "metadata": {
        "id": "EuuBINw2CYPZ"
      },
      "source": [
        "##Visualization\n",
        "---"
      ]
    },
    {
      "cell_type": "code",
      "metadata": {
        "id": "NYw4M7c4HfsJ"
      },
      "source": [
        "import matplotlib.pyplot as plt"
      ],
      "execution_count": null,
      "outputs": []
    },
    {
      "cell_type": "code",
      "metadata": {
        "colab": {
          "base_uri": "https://localhost:8080/",
          "height": 330
        },
        "id": "IFPhuKUACeah",
        "outputId": "061783a5-5f5a-40b9-a959-a367fb82d7df"
      },
      "source": [
        "plt.scatter(xTrain, yTrain, color='red')\n",
        "b, m = model.intercept_, model.coef_[-1]\n",
        "print(b) #intercept value\n",
        "print(m) #  slope\n",
        "print(model.coef_)\n",
        "plt.plot(X, m*X + b)"
      ],
      "execution_count": null,
      "outputs": [
        {
          "output_type": "stream",
          "text": [
            "[-15092.05975325]\n",
            "[7.95832165]\n",
            "[[7.95832165]]\n"
          ],
          "name": "stdout"
        },
        {
          "output_type": "execute_result",
          "data": {
            "text/plain": [
              "[<matplotlib.lines.Line2D at 0x7f2af4911290>]"
            ]
          },
          "metadata": {
            "tags": []
          },
          "execution_count": 24
        },
        {
          "output_type": "display_data",
          "data": {
            "image/png": "[encoded data removed]",
            "text/plain": [
              "<Figure size 432x288 with 1 Axes>"
            ]
          },
          "metadata": {
            "tags": [],
            "needs_background": "light"
          }
        }
      ]
    },
    {
      "cell_type": "markdown",
      "metadata": {
        "id": "kVdO7VVlXpad"
      },
      "source": [
        "##**FITTING POLYNOMIAL REGRESSION TO THE DATASET**"
      ]
    },
    {
      "cell_type": "code",
      "metadata": {
        "id": "wfBp2zRnCtnH"
      },
      "source": [
        "# Fitting Polynomial Regression to the dataset\n",
        "from sklearn.preprocessing import PolynomialFeatures\n",
        "from sklearn import linear_model"
      ],
      "execution_count": null,
      "outputs": []
    },
    {
      "cell_type": "code",
      "metadata": {
        "colab": {
          "base_uri": "https://localhost:8080/"
        },
        "id": "YjJqH3J0JOBs",
        "outputId": "e062c568-32eb-4750-92fe-508c826cd1a2"
      },
      "source": [
        "poly_reg = PolynomialFeatures(degree = 2)\n",
        "print(xTrain)\n",
        "X_poly, Y_poly = poly_reg.fit_transform(xTrain.reshape(-1,1)), poly_reg.fit_transform(yTrain.reshape(-1,1))\n",
        "print(X_poly)"
      ],
      "execution_count": null,
      "outputs": [
        {
          "output_type": "stream",
          "text": [
            "[1998. 1994. 2015. 1975. 1990. 1991. 1993. 1985. 2004. 2003. 1967. 2006.\n",
            " 1968. 2017. 1977. 1969. 1978. 1996. 2009. 1989. 2016. 1982. 2001. 1976.\n",
            " 1970. 1979. 1980. 2014. 2012. 1997. 1971. 1988. 1981. 1983. 1972. 1986.\n",
            " 2011. 1974. 1984. 1966. 2005. 2018. 1992. 1995.]\n",
            "[[1.000000e+00 1.998000e+03 3.992004e+06]\n",
            " [1.000000e+00 1.994000e+03 3.976036e+06]\n",
            " [1.000000e+00 2.015000e+03 4.060225e+06]\n",
            " [1.000000e+00 1.975000e+03 3.900625e+06]\n",
            " [1.000000e+00 1.990000e+03 3.960100e+06]\n",
            " [1.000000e+00 1.991000e+03 3.964081e+06]\n",
            " [1.000000e+00 1.993000e+03 3.972049e+06]\n",
            " [1.000000e+00 1.985000e+03 3.940225e+06]\n",
            " [1.000000e+00 2.004000e+03 4.016016e+06]\n",
            " [1.000000e+00 2.003000e+03 4.012009e+06]\n",
            " [1.000000e+00 1.967000e+03 3.869089e+06]\n",
            " [1.000000e+00 2.006000e+03 4.024036e+06]\n",
            " [1.000000e+00 1.968000e+03 3.873024e+06]\n",
            " [1.000000e+00 2.017000e+03 4.068289e+06]\n",
            " [1.000000e+00 1.977000e+03 3.908529e+06]\n",
            " [1.000000e+00 1.969000e+03 3.876961e+06]\n",
            " [1.000000e+00 1.978000e+03 3.912484e+06]\n",
            " [1.000000e+00 1.996000e+03 3.984016e+06]\n",
            " [1.000000e+00 2.009000e+03 4.036081e+06]\n",
            " [1.000000e+00 1.989000e+03 3.956121e+06]\n",
            " [1.000000e+00 2.016000e+03 4.064256e+06]\n",
            " [1.000000e+00 1.982000e+03 3.928324e+06]\n",
            " [1.000000e+00 2.001000e+03 4.004001e+06]\n",
            " [1.000000e+00 1.976000e+03 3.904576e+06]\n",
            " [1.000000e+00 1.970000e+03 3.880900e+06]\n",
            " [1.000000e+00 1.979000e+03 3.916441e+06]\n",
            " [1.000000e+00 1.980000e+03 3.920400e+06]\n",
            " [1.000000e+00 2.014000e+03 4.056196e+06]\n",
            " [1.000000e+00 2.012000e+03 4.048144e+06]\n",
            " [1.000000e+00 1.997000e+03 3.988009e+06]\n",
            " [1.000000e+00 1.971000e+03 3.884841e+06]\n",
            " [1.000000e+00 1.988000e+03 3.952144e+06]\n",
            " [1.000000e+00 1.981000e+03 3.924361e+06]\n",
            " [1.000000e+00 1.983000e+03 3.932289e+06]\n",
            " [1.000000e+00 1.972000e+03 3.888784e+06]\n",
            " [1.000000e+00 1.986000e+03 3.944196e+06]\n",
            " [1.000000e+00 2.011000e+03 4.044121e+06]\n",
            " [1.000000e+00 1.974000e+03 3.896676e+06]\n",
            " [1.000000e+00 1.984000e+03 3.936256e+06]\n",
            " [1.000000e+00 1.966000e+03 3.865156e+06]\n",
            " [1.000000e+00 2.005000e+03 4.020025e+06]\n",
            " [1.000000e+00 2.018000e+03 4.072324e+06]\n",
            " [1.000000e+00 1.992000e+03 3.968064e+06]\n",
            " [1.000000e+00 1.995000e+03 3.980025e+06]]\n"
          ],
          "name": "stdout"
        }
      ]
    },
    {
      "cell_type": "code",
      "metadata": {
        "colab": {
          "base_uri": "https://localhost:8080/"
        },
        "id": "rGtwISG3aPMQ",
        "outputId": "5995f261-d78a-43db-e7f2-4afccd67b72d"
      },
      "source": [
        "print(yTrain)\n",
        "print(Y_poly)\n",
        "pol_reg = LinearRegression()\n",
        "pol_reg = pol_reg.fit(X_poly, Y_poly)"
      ],
      "execution_count": null,
      "outputs": [
        {
          "output_type": "stream",
          "text": [
            "[ 796.328  810.098  995.78   630.364  764.855  786.697  803.381  728.211\n",
            "  791.274  773.045  605.142  805.682  597.217 1021.75   627.081  594.925\n",
            "  628.899  781.838  869.536  721.081 1005.276  669.116  794.734  597.791\n",
            "  590.206  645.841  645.26   983.367  910.801  775.545  589.068  738.498\n",
            "  660.914  677.736  593.189  718.257  885.995  617.469  701.845  607.157\n",
            "  794.768 1055.854  771.091  806.529]\n",
            "[[1.00000000e+00 7.96328000e+02 6.34138284e+05]\n",
            " [1.00000000e+00 8.10098000e+02 6.56258770e+05]\n",
            " [1.00000000e+00 9.95780000e+02 9.91577808e+05]\n",
            " [1.00000000e+00 6.30364000e+02 3.97358772e+05]\n",
            " [1.00000000e+00 7.64855000e+02 5.85003171e+05]\n",
            " [1.00000000e+00 7.86697000e+02 6.18892170e+05]\n",
            " [1.00000000e+00 8.03381000e+02 6.45421031e+05]\n",
            " [1.00000000e+00 7.28211000e+02 5.30291261e+05]\n",
            " [1.00000000e+00 7.91274000e+02 6.26114543e+05]\n",
            " [1.00000000e+00 7.73045000e+02 5.97598572e+05]\n",
            " [1.00000000e+00 6.05142000e+02 3.66196840e+05]\n",
            " [1.00000000e+00 8.05682000e+02 6.49123485e+05]\n",
            " [1.00000000e+00 5.97217000e+02 3.56668145e+05]\n",
            " [1.00000000e+00 1.02175000e+03 1.04397306e+06]\n",
            " [1.00000000e+00 6.27081000e+02 3.93230581e+05]\n",
            " [1.00000000e+00 5.94925000e+02 3.53935756e+05]\n",
            " [1.00000000e+00 6.28899000e+02 3.95513952e+05]\n",
            " [1.00000000e+00 7.81838000e+02 6.11270658e+05]\n",
            " [1.00000000e+00 8.69536000e+02 7.56092855e+05]\n",
            " [1.00000000e+00 7.21081000e+02 5.19957809e+05]\n",
            " [1.00000000e+00 1.00527600e+03 1.01057984e+06]\n",
            " [1.00000000e+00 6.69116000e+02 4.47716221e+05]\n",
            " [1.00000000e+00 7.94734000e+02 6.31602131e+05]\n",
            " [1.00000000e+00 5.97791000e+02 3.57354080e+05]\n",
            " [1.00000000e+00 5.90206000e+02 3.48343122e+05]\n",
            " [1.00000000e+00 6.45841000e+02 4.17110597e+05]\n",
            " [1.00000000e+00 6.45260000e+02 4.16360468e+05]\n",
            " [1.00000000e+00 9.83367000e+02 9.67010657e+05]\n",
            " [1.00000000e+00 9.10801000e+02 8.29558462e+05]\n",
            " [1.00000000e+00 7.75545000e+02 6.01470047e+05]\n",
            " [1.00000000e+00 5.89068000e+02 3.47001109e+05]\n",
            " [1.00000000e+00 7.38498000e+02 5.45379296e+05]\n",
            " [1.00000000e+00 6.60914000e+02 4.36807315e+05]\n",
            " [1.00000000e+00 6.77736000e+02 4.59326086e+05]\n",
            " [1.00000000e+00 5.93189000e+02 3.51873190e+05]\n",
            " [1.00000000e+00 7.18257000e+02 5.15893118e+05]\n",
            " [1.00000000e+00 8.85995000e+02 7.84987140e+05]\n",
            " [1.00000000e+00 6.17469000e+02 3.81267966e+05]\n",
            " [1.00000000e+00 7.01845000e+02 4.92586404e+05]\n",
            " [1.00000000e+00 6.07157000e+02 3.68639623e+05]\n",
            " [1.00000000e+00 7.94768000e+02 6.31656174e+05]\n",
            " [1.00000000e+00 1.05585400e+03 1.11482767e+06]\n",
            " [1.00000000e+00 7.71091000e+02 5.94581330e+05]\n",
            " [1.00000000e+00 8.06529000e+02 6.50489028e+05]]\n"
          ],
          "name": "stdout"
        }
      ]
    },
    {
      "cell_type": "code",
      "metadata": {
        "colab": {
          "base_uri": "https://localhost:8080/"
        },
        "id": "mkVsxGgZQO3j",
        "outputId": "f8026198-fb5b-4006-d834-5fe8a3e457c0"
      },
      "source": [
        "print(pol_reg.coef_) #0, b1, b2 in y = x + b1*x1 + b2*x^2\n",
        "coefficient = pol_reg.coef_\n",
        "intercept = pol_reg.intercept_"
      ],
      "execution_count": null,
      "outputs": [
        {
          "output_type": "stream",
          "text": [
            "[ 0.00000000e+00 -4.07645755e+02  1.04301446e-01]\n"
          ],
          "name": "stdout"
        }
      ]
    },
    {
      "cell_type": "markdown",
      "metadata": {
        "id": "_2wv-CW-CzzA"
      },
      "source": [
        "Visualization"
      ]
    },
    {
      "cell_type": "code",
      "metadata": {
        "colab": {
          "base_uri": "https://localhost:8080/",
          "height": 285
        },
        "id": "Qh9rjVivSc3E",
        "outputId": "57e85c85-b8c5-4e2c-f643-5218dc1eec39"
      },
      "source": [
        "plt.scatter(X,Y)\n",
        "x_axis = np.arange(1960,2020,0.1)\n",
        "#print(x_axis)\n",
        "y_axis = intercept + coefficient[1] * x_axis + coefficient[2] * x_axis**2\n",
        "plt.plot(x_axis, y_axis, color = 'r')"
      ],
      "execution_count": null,
      "outputs": [
        {
          "output_type": "execute_result",
          "data": {
            "text/plain": [
              "[<matplotlib.lines.Line2D at 0x7f84b4baafd0>]"
            ]
          },
          "metadata": {
            "tags": []
          },
          "execution_count": 53
        },
        {
          "output_type": "display_data",
          "data": {
            "image/png": "[encoded data removed]",
            "text/plain": [
              "<Figure size 432x288 with 1 Axes>"
            ]
          },
          "metadata": {
            "tags": [],
            "needs_background": "light"
          }
        }
      ]
    },
    {
      "cell_type": "code",
      "metadata": {
        "colab": {
          "base_uri": "https://localhost:8080/",
          "height": 295
        },
        "id": "OeqybZdbC14n",
        "outputId": "9021f0b0-1334-4050-b71b-90d73e5ba5b5"
      },
      "source": [
        "# Visualizing the Polymonial Regression results\n",
        "def viz_polymonial():\n",
        "    plt.scatter(X, Y, color='red')\n",
        "    plt.plot(x_axis, y_axis, color='blue')\n",
        "    plt.title('Prediction of Growth in Renewable Energy')\n",
        "    plt.xlabel('Year of Consumption')\n",
        "    plt.ylabel('Usage of Renewable Energy')\n",
        "    plt.show()\n",
        "    return\n",
        "viz_polymonial()"
      ],
      "execution_count": null,
      "outputs": [
        {
          "output_type": "display_data",
          "data": {
            "image/png": "[encoded data removed]",
            "text/plain": [
              "<Figure size 432x288 with 1 Axes>"
            ]
          },
          "metadata": {
            "tags": [],
            "needs_background": "light"
          }
        }
      ]
    },
    {
      "cell_type": "markdown",
      "metadata": {
        "id": "miXIu7-aXpaj"
      },
      "source": [
        "**PREDICTING FUTURE VALUE**"
      ]
    },
    {
      "cell_type": "code",
      "metadata": {
        "colab": {
          "base_uri": "https://localhost:8080/"
        },
        "id": "B10mO1X6Xpaj",
        "outputId": "c1372649-f3e5-48fc-fc51-8ca6f3411454"
      },
      "source": [
        "model.predict([[2020]])\n"
      ],
      "execution_count": null,
      "outputs": [
        {
          "output_type": "execute_result",
          "data": {
            "text/plain": [
              "array([[983.7499697]])"
            ]
          },
          "metadata": {
            "tags": []
          },
          "execution_count": 55
        }
      ]
    },
    {
      "cell_type": "code",
      "metadata": {
        "colab": {
          "base_uri": "https://localhost:8080/"
        },
        "id": "dXIoWmp7NQDq",
        "outputId": "592e1a73-c14c-480e-eea6-503ab81f8c2f"
      },
      "source": [
        "model.predict([[2030]])"
      ],
      "execution_count": null,
      "outputs": [
        {
          "output_type": "execute_result",
          "data": {
            "text/plain": [
              "array([[1063.33318615]])"
            ]
          },
          "metadata": {
            "tags": []
          },
          "execution_count": 56
        }
      ]
    },
    {
      "cell_type": "code",
      "metadata": {
        "colab": {
          "base_uri": "https://localhost:8080/"
        },
        "id": "ALqUZjHrNRNl",
        "outputId": "3f0b76da-e6a0-4425-b4a3-a40bd7f84ec0"
      },
      "source": [
        "model.predict([[2040]])"
      ],
      "execution_count": null,
      "outputs": [
        {
          "output_type": "execute_result",
          "data": {
            "text/plain": [
              "array([[1142.9164026]])"
            ]
          },
          "metadata": {
            "tags": []
          },
          "execution_count": 57
        }
      ]
    },
    {
      "cell_type": "code",
      "metadata": {
        "colab": {
          "base_uri": "https://localhost:8080/"
        },
        "id": "soyo6C6INSWf",
        "outputId": "aa4b08d0-d640-48aa-e668-1a3ba5d88516"
      },
      "source": [
        "model.predict([[2050]])"
      ],
      "execution_count": null,
      "outputs": [
        {
          "output_type": "execute_result",
          "data": {
            "text/plain": [
              "array([[1222.49961905]])"
            ]
          },
          "metadata": {
            "tags": []
          },
          "execution_count": 58
        }
      ]
    },
    {
      "cell_type": "code",
      "metadata": {
        "colab": {
          "base_uri": "https://localhost:8080/"
        },
        "id": "Byu8LrbnXH79",
        "outputId": "9deddd98-b571-48b7-e953-923b019714ec"
      },
      "source": [
        "model.predict([[1965]])"
      ],
      "execution_count": null,
      "outputs": [
        {
          "output_type": "execute_result",
          "data": {
            "text/plain": [
              "array([[546.04227922]])"
            ]
          },
          "metadata": {
            "tags": []
          },
          "execution_count": 59
        }
      ]
    }
  ]
}