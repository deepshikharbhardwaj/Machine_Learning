{
  "nbformat": 4,
  "nbformat_minor": 0,
  "metadata": {
    "colab": {
      "name": "ConvolutionalAutoEncoders.ipynb",
      "provenance": [],
      "authorship_tag": "ABX9TyPO2qebHsXf0E8fRudbctTK",
      "include_colab_link": true
    },
    "kernelspec": {
      "name": "python3",
      "display_name": "Python 3"
    },
    "language_info": {
      "name": "python"
    },
    "widgets": {
      "application/vnd.jupyter.widget-state+json": {
        "e3bac969541a4495ba0a0ebe63c98b7b": {
          "model_module": "@jupyter-widgets/controls",
          "model_name": "HBoxModel",
          "state": {
            "_view_name": "HBoxView",
            "_dom_classes": [],
            "_model_name": "HBoxModel",
            "_view_module": "@jupyter-widgets/controls",
            "_model_module_version": "1.5.0",
            "_view_count": null,
            "_view_module_version": "1.5.0",
            "box_style": "",
            "layout": "IPY_MODEL_d8b0fc612f564390ab7bef9f176617f2",
            "_model_module": "@jupyter-widgets/controls",
            "children": [
              "IPY_MODEL_f582654d161945b39499cd5faf476690",
              "IPY_MODEL_4bf38f68d33b4f40889167da2163db32"
            ]
          }
        },
        "d8b0fc612f564390ab7bef9f176617f2": {
          "model_module": "@jupyter-widgets/base",
          "model_name": "LayoutModel",
          "state": {
            "_view_name": "LayoutView",
            "grid_template_rows": null,
            "right": null,
            "justify_content": null,
            "_view_module": "@jupyter-widgets/base",
            "overflow": null,
            "_model_module_version": "1.2.0",
            "_view_count": null,
            "flex_flow": null,
            "width": null,
            "min_width": null,
            "border": null,
            "align_items": null,
            "bottom": null,
            "_model_module": "@jupyter-widgets/base",
            "top": null,
            "grid_column": null,
            "overflow_y": null,
            "overflow_x": null,
            "grid_auto_flow": null,
            "grid_area": null,
            "grid_template_columns": null,
            "flex": null,
            "_model_name": "LayoutModel",
            "justify_items": null,
            "grid_row": null,
            "max_height": null,
            "align_content": null,
            "visibility": null,
            "align_self": null,
            "height": null,
            "min_height": null,
            "padding": null,
            "grid_auto_rows": null,
            "grid_gap": null,
            "max_width": null,
            "order": null,
            "_view_module_version": "1.2.0",
            "grid_template_areas": null,
            "object_position": null,
            "object_fit": null,
            "grid_auto_columns": null,
            "margin": null,
            "display": null,
            "left": null
          }
        },
        "f582654d161945b39499cd5faf476690": {
          "model_module": "@jupyter-widgets/controls",
          "model_name": "FloatProgressModel",
          "state": {
            "_view_name": "ProgressView",
            "style": "IPY_MODEL_b6527e5fccc54a8d804a2b2adeba9122",
            "_dom_classes": [],
            "description": "",
            "_model_name": "FloatProgressModel",
            "bar_style": "success",
            "max": 170498071,
            "_view_module": "@jupyter-widgets/controls",
            "_model_module_version": "1.5.0",
            "value": 170498071,
            "_view_count": null,
            "_view_module_version": "1.5.0",
            "orientation": "horizontal",
            "min": 0,
            "description_tooltip": null,
            "_model_module": "@jupyter-widgets/controls",
            "layout": "IPY_MODEL_81590e66d995436c85072fa1c27c4d8b"
          }
        },
        "4bf38f68d33b4f40889167da2163db32": {
          "model_module": "@jupyter-widgets/controls",
          "model_name": "HTMLModel",
          "state": {
            "_view_name": "HTMLView",
            "style": "IPY_MODEL_ef2ac8f8170c44638698168a9664ffaf",
            "_dom_classes": [],
            "description": "",
            "_model_name": "HTMLModel",
            "placeholder": "​",
            "_view_module": "@jupyter-widgets/controls",
            "_model_module_version": "1.5.0",
            "value": " 170499072/? [43:33&lt;00:00, 65225.37it/s]",
            "_view_count": null,
            "_view_module_version": "1.5.0",
            "description_tooltip": null,
            "_model_module": "@jupyter-widgets/controls",
            "layout": "IPY_MODEL_87a29aa01dbf40cd972df46d5bb11679"
          }
        },
        "b6527e5fccc54a8d804a2b2adeba9122": {
          "model_module": "@jupyter-widgets/controls",
          "model_name": "ProgressStyleModel",
          "state": {
            "_view_name": "StyleView",
            "_model_name": "ProgressStyleModel",
            "description_width": "initial",
            "_view_module": "@jupyter-widgets/base",
            "_model_module_version": "1.5.0",
            "_view_count": null,
            "_view_module_version": "1.2.0",
            "bar_color": null,
            "_model_module": "@jupyter-widgets/controls"
          }
        },
        "81590e66d995436c85072fa1c27c4d8b": {
          "model_module": "@jupyter-widgets/base",
          "model_name": "LayoutModel",
          "state": {
            "_view_name": "LayoutView",
            "grid_template_rows": null,
            "right": null,
            "justify_content": null,
            "_view_module": "@jupyter-widgets/base",
            "overflow": null,
            "_model_module_version": "1.2.0",
            "_view_count": null,
            "flex_flow": null,
            "width": null,
            "min_width": null,
            "border": null,
            "align_items": null,
            "bottom": null,
            "_model_module": "@jupyter-widgets/base",
            "top": null,
            "grid_column": null,
            "overflow_y": null,
            "overflow_x": null,
            "grid_auto_flow": null,
            "grid_area": null,
            "grid_template_columns": null,
            "flex": null,
            "_model_name": "LayoutModel",
            "justify_items": null,
            "grid_row": null,
            "max_height": null,
            "align_content": null,
            "visibility": null,
            "align_self": null,
            "height": null,
            "min_height": null,
            "padding": null,
            "grid_auto_rows": null,
            "grid_gap": null,
            "max_width": null,
            "order": null,
            "_view_module_version": "1.2.0",
            "grid_template_areas": null,
            "object_position": null,
            "object_fit": null,
            "grid_auto_columns": null,
            "margin": null,
            "display": null,
            "left": null
          }
        },
        "ef2ac8f8170c44638698168a9664ffaf": {
          "model_module": "@jupyter-widgets/controls",
          "model_name": "DescriptionStyleModel",
          "state": {
            "_view_name": "StyleView",
            "_model_name": "DescriptionStyleModel",
            "description_width": "",
            "_view_module": "@jupyter-widgets/base",
            "_model_module_version": "1.5.0",
            "_view_count": null,
            "_view_module_version": "1.2.0",
            "_model_module": "@jupyter-widgets/controls"
          }
        },
        "87a29aa01dbf40cd972df46d5bb11679": {
          "model_module": "@jupyter-widgets/base",
          "model_name": "LayoutModel",
          "state": {
            "_view_name": "LayoutView",
            "grid_template_rows": null,
            "right": null,
            "justify_content": null,
            "_view_module": "@jupyter-widgets/base",
            "overflow": null,
            "_model_module_version": "1.2.0",
            "_view_count": null,
            "flex_flow": null,
            "width": null,
            "min_width": null,
            "border": null,
            "align_items": null,
            "bottom": null,
            "_model_module": "@jupyter-widgets/base",
            "top": null,
            "grid_column": null,
            "overflow_y": null,
            "overflow_x": null,
            "grid_auto_flow": null,
            "grid_area": null,
            "grid_template_columns": null,
            "flex": null,
            "_model_name": "LayoutModel",
            "justify_items": null,
            "grid_row": null,
            "max_height": null,
            "align_content": null,
            "visibility": null,
            "align_self": null,
            "height": null,
            "min_height": null,
            "padding": null,
            "grid_auto_rows": null,
            "grid_gap": null,
            "max_width": null,
            "order": null,
            "_view_module_version": "1.2.0",
            "grid_template_areas": null,
            "object_position": null,
            "object_fit": null,
            "grid_auto_columns": null,
            "margin": null,
            "display": null,
            "left": null
          }
        }
      }
    }
  },
  "cells": [
    {
      "cell_type": "markdown",
      "metadata": {
        "id": "view-in-github",
        "colab_type": "text"
      },
      "source": [
        "<a href=\"https://colab.research.google.com/github/deepshikharbhardwaj/Machine_Learning/blob/main/ConvolutionalAutoEncoders.ipynb\" target=\"_parent\"><img src=\"https://colab.research.google.com/assets/colab-badge.svg\" alt=\"Open In Colab\"/></a>"
      ]
    },
    {
      "cell_type": "code",
      "metadata": {
        "id": "ZgY7l6PgDQ9o"
      },
      "source": [
        "import os\n",
        "import torch \n",
        "import torchvision\n",
        "import torch.nn as nn\n",
        "import torchvision.transforms as transforms\n",
        "import torch.optim as optim\n",
        "import torch.nn.functional as F\n",
        "import matplotlib.pyplot as plt\n",
        "from torchvision import datasets\n",
        "from torch.utils.data import DataLoader\n",
        "from torchvision.utils import save_image"
      ],
      "execution_count": 1,
      "outputs": []
    },
    {
      "cell_type": "code",
      "metadata": {
        "id": "_ftz9i6JDr7k"
      },
      "source": [
        "NUM_EPOCHS = 50\n",
        "LEARNING_RATE = 1e-3\n",
        "BATCH_SIZE = 32"
      ],
      "execution_count": 2,
      "outputs": []
    },
    {
      "cell_type": "code",
      "metadata": {
        "id": "lfeLlDsRDtOK"
      },
      "source": [
        "transform = transforms.Compose([\n",
        "    transforms.ToTensor(),\n",
        "    transforms.Normalize((0.5, 0.5, 0.5), (0.5, 0.5, 0.5))\n",
        "])"
      ],
      "execution_count": 3,
      "outputs": []
    },
    {
      "cell_type": "code",
      "metadata": {
        "colab": {
          "base_uri": "https://localhost:8080/",
          "height": 113,
          "referenced_widgets": [
            "e3bac969541a4495ba0a0ebe63c98b7b",
            "d8b0fc612f564390ab7bef9f176617f2",
            "f582654d161945b39499cd5faf476690",
            "4bf38f68d33b4f40889167da2163db32",
            "b6527e5fccc54a8d804a2b2adeba9122",
            "81590e66d995436c85072fa1c27c4d8b",
            "ef2ac8f8170c44638698168a9664ffaf",
            "87a29aa01dbf40cd972df46d5bb11679"
          ]
        },
        "id": "__JoqOP1DuaY",
        "outputId": "dc260af8-b4df-479c-871f-68918b0ffa07"
      },
      "source": [
        "trainset = datasets.CIFAR10(\n",
        "    root='./data',\n",
        "    train=True, \n",
        "    download=True,\n",
        "    transform=transform\n",
        ")\n",
        "testset = datasets.CIFAR10(\n",
        "    root='./data',\n",
        "    train=False,\n",
        "    download=True,\n",
        "    transform=transform\n",
        ")\n",
        "trainloader = DataLoader(\n",
        "    trainset, \n",
        "    batch_size=BATCH_SIZE,\n",
        "    shuffle=True\n",
        ")\n",
        "testloader = DataLoader(\n",
        "    testset, \n",
        "    batch_size=BATCH_SIZE, \n",
        "    shuffle=True\n",
        ")"
      ],
      "execution_count": 4,
      "outputs": [
        {
          "output_type": "stream",
          "text": [
            "Downloading https://www.cs.toronto.edu/~kriz/cifar-10-python.tar.gz to ./data/cifar-10-python.tar.gz\n"
          ],
          "name": "stdout"
        },
        {
          "output_type": "display_data",
          "data": {
            "application/vnd.jupyter.widget-view+json": {
              "model_id": "e3bac969541a4495ba0a0ebe63c98b7b",
              "version_minor": 0,
              "version_major": 2
            },
            "text/plain": [
              "HBox(children=(FloatProgress(value=0.0, max=170498071.0), HTML(value='')))"
            ]
          },
          "metadata": {
            "tags": []
          }
        },
        {
          "output_type": "stream",
          "text": [
            "\n",
            "Extracting ./data/cifar-10-python.tar.gz to ./data\n",
            "Files already downloaded and verified\n"
          ],
          "name": "stdout"
        }
      ]
    },
    {
      "cell_type": "code",
      "metadata": {
        "id": "YYU5DYhmDvtx"
      },
      "source": [
        "def get_device():\n",
        "    if torch.cuda.is_available():\n",
        "        device = 'cuda:0'\n",
        "    else:\n",
        "        device = 'cpu'\n",
        "    return device\n",
        "def make_dir():\n",
        "    image_dir = 'Conv_CIFAR10_Images'\n",
        "    if not os.path.exists(image_dir):\n",
        "        os.makedirs(image_dir)\n",
        "def save_decoded_image(img, name):\n",
        "    img = img.view(img.size(0), 3, 32, 32)\n",
        "    save_image(img, name)"
      ],
      "execution_count": 5,
      "outputs": []
    },
    {
      "cell_type": "code",
      "metadata": {
        "colab": {
          "base_uri": "https://localhost:8080/"
        },
        "id": "Im21k-XGDxJ6",
        "outputId": "52f732fa-cc92-4f80-f318-2a49263d1607"
      },
      "source": [
        "class Autoencoder(nn.Module):\n",
        "    def __init__(self):\n",
        "        super(Autoencoder, self).__init__()\n",
        "        # encoder\n",
        "        self.enc1 = nn.Conv2d(\n",
        "            in_channels=3, out_channels=8, kernel_size=3\n",
        "        )\n",
        "        self.enc2 = nn.Conv2d(\n",
        "            in_channels=8, out_channels=4, kernel_size=3\n",
        "        )\n",
        "        # decoder \n",
        "        self.dec1 = nn.ConvTranspose2d(\n",
        "            in_channels=4, out_channels=8, kernel_size=3\n",
        "        )\n",
        "        self.dec2 = nn.ConvTranspose2d(\n",
        "            in_channels=8, out_channels=3, kernel_size=3\n",
        "        )\n",
        "    def forward(self, x):\n",
        "       x = F.relu(self.enc1(x))\n",
        "       x = F.relu(self.enc2(x))\n",
        "       x = F.relu(self.dec1(x))\n",
        "       x = F.relu(self.dec2(x))\n",
        "       return x\n",
        "net = Autoencoder()\n",
        "print(net)"
      ],
      "execution_count": 6,
      "outputs": [
        {
          "output_type": "stream",
          "text": [
            "Autoencoder(\n",
            "  (enc1): Conv2d(3, 8, kernel_size=(3, 3), stride=(1, 1))\n",
            "  (enc2): Conv2d(8, 4, kernel_size=(3, 3), stride=(1, 1))\n",
            "  (dec1): ConvTranspose2d(4, 8, kernel_size=(3, 3), stride=(1, 1))\n",
            "  (dec2): ConvTranspose2d(8, 3, kernel_size=(3, 3), stride=(1, 1))\n",
            ")\n"
          ],
          "name": "stdout"
        }
      ]
    },
    {
      "cell_type": "code",
      "metadata": {
        "id": "vUOAB71jDzMS"
      },
      "source": [
        "criterion = nn.MSELoss()\n",
        "optimizer = optim.Adam(net.parameters(), lr=LEARNING_RATE)"
      ],
      "execution_count": 7,
      "outputs": []
    },
    {
      "cell_type": "code",
      "metadata": {
        "id": "JrAvGKSxD0rL"
      },
      "source": [
        "def train(net, trainloader, NUM_EPOCHS):\n",
        "    train_loss = []\n",
        "    for epoch in range(NUM_EPOCHS):\n",
        "        running_loss = 0.0\n",
        "        for data in trainloader:\n",
        "            img, _ = data # no need for the labels\n",
        "            img = img.to(device)\n",
        "            optimizer.zero_grad()\n",
        "            outputs = net(img)\n",
        "            loss = criterion(outputs, img)\n",
        "            loss.backward()\n",
        "            optimizer.step()\n",
        "            running_loss += loss.item()\n",
        "        \n",
        "        loss = running_loss / len(trainloader)\n",
        "        train_loss.append(loss)\n",
        "        print('Epoch {} of {}, Train Loss: {:.3f}'.format(\n",
        "            epoch+1, NUM_EPOCHS, loss))\n",
        "        if epoch % 5 == 0:\n",
        "            save_decoded_image(img.cpu().data, name='./Conv_CIFAR10_Images/original{}.png'.format(epoch))\n",
        "            save_decoded_image(outputs.cpu().data, name='./Conv_CIFAR10_Images/decoded{}.png'.format(epoch))\n",
        "    return train_loss\n",
        "\n",
        "    \n",
        "def test_image_reconstruction(net, testloader):\n",
        "     for batch in testloader:\n",
        "        img, _ = batch\n",
        "        img = img.to(device)\n",
        "        outputs = net(img)\n",
        "        outputs = outputs.view(outputs.size(0), 3, 32, 32).cpu().data\n",
        "        save_image(outputs, 'conv_cifar10_reconstruction.png')\n",
        "        break"
      ],
      "execution_count": 8,
      "outputs": []
    },
    {
      "cell_type": "code",
      "metadata": {
        "colab": {
          "base_uri": "https://localhost:8080/",
          "height": 1000
        },
        "id": "72K63xOeD4TP",
        "outputId": "2b521c18-e16a-419f-e1bb-cbc6eea04142"
      },
      "source": [
        "device = get_device()\n",
        "print(device)\n",
        "net.to(device)\n",
        "make_dir()\n",
        "train_loss = train(net, trainloader, NUM_EPOCHS)\n",
        "plt.figure()\n",
        "plt.plot(train_loss)\n",
        "plt.title('Train Loss')\n",
        "plt.xlabel('Epochs')\n",
        "plt.ylabel('Loss')\n",
        "plt.savefig('conv_ae_cifar10_loss.png')\n",
        "test_image_reconstruction(net, testloader)"
      ],
      "execution_count": 9,
      "outputs": [
        {
          "output_type": "stream",
          "text": [
            "cpu\n",
            "Epoch 1 of 50, Train Loss: 0.154\n",
            "Epoch 2 of 50, Train Loss: 0.146\n",
            "Epoch 3 of 50, Train Loss: 0.146\n",
            "Epoch 4 of 50, Train Loss: 0.145\n",
            "Epoch 5 of 50, Train Loss: 0.145\n",
            "Epoch 6 of 50, Train Loss: 0.145\n",
            "Epoch 7 of 50, Train Loss: 0.145\n",
            "Epoch 8 of 50, Train Loss: 0.145\n",
            "Epoch 9 of 50, Train Loss: 0.144\n",
            "Epoch 10 of 50, Train Loss: 0.144\n",
            "Epoch 11 of 50, Train Loss: 0.144\n",
            "Epoch 12 of 50, Train Loss: 0.144\n",
            "Epoch 13 of 50, Train Loss: 0.144\n",
            "Epoch 14 of 50, Train Loss: 0.144\n",
            "Epoch 15 of 50, Train Loss: 0.144\n",
            "Epoch 16 of 50, Train Loss: 0.144\n",
            "Epoch 17 of 50, Train Loss: 0.143\n",
            "Epoch 18 of 50, Train Loss: 0.143\n",
            "Epoch 19 of 50, Train Loss: 0.143\n",
            "Epoch 20 of 50, Train Loss: 0.143\n",
            "Epoch 21 of 50, Train Loss: 0.143\n",
            "Epoch 22 of 50, Train Loss: 0.143\n",
            "Epoch 23 of 50, Train Loss: 0.143\n",
            "Epoch 24 of 50, Train Loss: 0.143\n",
            "Epoch 25 of 50, Train Loss: 0.143\n",
            "Epoch 26 of 50, Train Loss: 0.143\n",
            "Epoch 27 of 50, Train Loss: 0.143\n",
            "Epoch 28 of 50, Train Loss: 0.143\n",
            "Epoch 29 of 50, Train Loss: 0.143\n",
            "Epoch 30 of 50, Train Loss: 0.143\n",
            "Epoch 31 of 50, Train Loss: 0.143\n",
            "Epoch 32 of 50, Train Loss: 0.143\n",
            "Epoch 33 of 50, Train Loss: 0.143\n",
            "Epoch 34 of 50, Train Loss: 0.143\n",
            "Epoch 35 of 50, Train Loss: 0.143\n",
            "Epoch 36 of 50, Train Loss: 0.143\n",
            "Epoch 37 of 50, Train Loss: 0.143\n",
            "Epoch 38 of 50, Train Loss: 0.143\n",
            "Epoch 39 of 50, Train Loss: 0.143\n",
            "Epoch 40 of 50, Train Loss: 0.143\n",
            "Epoch 41 of 50, Train Loss: 0.143\n",
            "Epoch 42 of 50, Train Loss: 0.143\n",
            "Epoch 43 of 50, Train Loss: 0.143\n",
            "Epoch 44 of 50, Train Loss: 0.143\n",
            "Epoch 45 of 50, Train Loss: 0.143\n",
            "Epoch 46 of 50, Train Loss: 0.143\n",
            "Epoch 47 of 50, Train Loss: 0.143\n",
            "Epoch 48 of 50, Train Loss: 0.143\n",
            "Epoch 49 of 50, Train Loss: 0.143\n",
            "Epoch 50 of 50, Train Loss: 0.143\n"
          ],
          "name": "stdout"
        },
        {
          "output_type": "display_data",
          "data": {
            "image/png": "[encoded data removed]",
            "text/plain": [
              "<Figure size 432x288 with 1 Axes>"
            ]
          },
          "metadata": {
            "tags": [],
            "needs_background": "light"
          }
        }
      ]
    },
    {
      "cell_type": "code",
      "metadata": {
        "id": "OM4_LmFaD5rk"
      },
      "source": [
        ""
      ],
      "execution_count": null,
      "outputs": []
    }
  ]
}