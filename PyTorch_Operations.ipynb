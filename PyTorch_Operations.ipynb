{
  "nbformat": 4,
  "nbformat_minor": 0,
  "metadata": {
    "colab": {
      "name": "PyTorch_Operations.ipynb",
      "provenance": [],
      "collapsed_sections": [
        "wzy6RPQKehg4",
        "U1lqXFX3edaW",
        "_fKxRILBhfBF",
        "f5F1D5dyJLd_",
        "YPuNB9MiKaKy"
      ],
      "include_colab_link": true
    },
    "kernelspec": {
      "name": "python3",
      "display_name": "Python 3"
    },
    "language_info": {
      "name": "python"
    },
    "accelerator": "GPU"
  },
  "cells": [
    {
      "cell_type": "markdown",
      "metadata": {
        "id": "view-in-github",
        "colab_type": "text"
      },
      "source": [
        "<a href=\"https://colab.research.google.com/github/deepshikharbhardwaj/Machine_Learning/blob/main/PyTorch_Operations.ipynb\" target=\"_parent\"><img src=\"https://colab.research.google.com/assets/colab-badge.svg\" alt=\"Open In Colab\"/></a>"
      ]
    },
    {
      "cell_type": "code",
      "metadata": {
        "id": "99LdjmcwXxGp"
      },
      "source": [
        "import torch\n",
        "import numpy as np"
      ],
      "execution_count": 1,
      "outputs": []
    },
    {
      "cell_type": "markdown",
      "metadata": {
        "id": "wzy6RPQKehg4"
      },
      "source": [
        "# Basics"
      ]
    },
    {
      "cell_type": "markdown",
      "metadata": {
        "id": "juaDD6JrYJFJ"
      },
      "source": [
        "Tensor should take ONLY 1 Argument"
      ]
    },
    {
      "cell_type": "code",
      "metadata": {
        "colab": {
          "base_uri": "https://localhost:8080/",
          "height": 158
        },
        "id": "pFISqeilX4UZ",
        "outputId": "bc82544a-fe41-4a61-dfd8-8dda8797650b"
      },
      "source": [
        "my_tensor = torch.tensor([1,2,3],[4,5,6])"
      ],
      "execution_count": null,
      "outputs": [
        {
          "output_type": "error",
          "ename": "TypeError",
          "evalue": "ignored",
          "traceback": [
            "\u001b[0;31m---------------------------------------------------------------------------\u001b[0m",
            "\u001b[0;31mTypeError\u001b[0m                                 Traceback (most recent call last)",
            "\u001b[0;32m<ipython-input-12-fac08510791b>\u001b[0m in \u001b[0;36m<module>\u001b[0;34m()\u001b[0m\n\u001b[0;32m----> 1\u001b[0;31m \u001b[0mmy_tensor\u001b[0m \u001b[0;34m=\u001b[0m \u001b[0mtorch\u001b[0m\u001b[0;34m.\u001b[0m\u001b[0mtensor\u001b[0m\u001b[0;34m(\u001b[0m\u001b[0;34m[\u001b[0m\u001b[0;36m1\u001b[0m\u001b[0;34m,\u001b[0m\u001b[0;36m2\u001b[0m\u001b[0;34m,\u001b[0m\u001b[0;36m3\u001b[0m\u001b[0;34m]\u001b[0m\u001b[0;34m,\u001b[0m\u001b[0;34m[\u001b[0m\u001b[0;36m4\u001b[0m\u001b[0;34m,\u001b[0m\u001b[0;36m5\u001b[0m\u001b[0;34m,\u001b[0m\u001b[0;36m6\u001b[0m\u001b[0;34m]\u001b[0m\u001b[0;34m)\u001b[0m\u001b[0;34m\u001b[0m\u001b[0;34m\u001b[0m\u001b[0m\n\u001b[0m",
            "\u001b[0;31mTypeError\u001b[0m: tensor() takes 1 positional argument but 2 were given"
          ]
        }
      ]
    },
    {
      "cell_type": "code",
      "metadata": {
        "colab": {
          "base_uri": "https://localhost:8080/"
        },
        "id": "lgnv9su3YAjT",
        "outputId": "86749d99-815b-47b3-efe4-e20377932b93"
      },
      "source": [
        "my_tensor = torch.tensor([[1,2,3],[4,5,6]])\n",
        "my_tensor"
      ],
      "execution_count": null,
      "outputs": [
        {
          "output_type": "execute_result",
          "data": {
            "text/plain": [
              "tensor([[1, 2, 3],\n",
              "        [4, 5, 6]])"
            ]
          },
          "metadata": {
            "tags": []
          },
          "execution_count": 13
        }
      ]
    },
    {
      "cell_type": "code",
      "metadata": {
        "colab": {
          "base_uri": "https://localhost:8080/"
        },
        "id": "RXb1nV8pYHd1",
        "outputId": "ffb5e17d-06d8-4753-b42f-6af01f34352b"
      },
      "source": [
        "my_tensor = torch.tensor([[1,2,3],[4,5,6]] ,dtype = torch.float32)\n",
        "my_tensor"
      ],
      "execution_count": null,
      "outputs": [
        {
          "output_type": "execute_result",
          "data": {
            "text/plain": [
              "tensor([[1., 2., 3.],\n",
              "        [4., 5., 6.]])"
            ]
          },
          "metadata": {
            "tags": []
          },
          "execution_count": 14
        }
      ]
    },
    {
      "cell_type": "code",
      "metadata": {
        "colab": {
          "base_uri": "https://localhost:8080/"
        },
        "id": "AucS-n-MYlT5",
        "outputId": "74786abb-95d8-4469-8d32-342b665689a0"
      },
      "source": [
        "device = \"cuda\" if torch.cuda.is_available() else \"cpu\"\n",
        "my_tensor = torch.tensor([[1,2,3],[4,5,6]] ,dtype = torch.float32, device=device)\n",
        "my_tensor"
      ],
      "execution_count": null,
      "outputs": [
        {
          "output_type": "execute_result",
          "data": {
            "text/plain": [
              "tensor([[1., 2., 3.],\n",
              "        [4., 5., 6.]], device='cuda:0')"
            ]
          },
          "metadata": {
            "tags": []
          },
          "execution_count": 15
        }
      ]
    },
    {
      "cell_type": "code",
      "metadata": {
        "colab": {
          "base_uri": "https://localhost:8080/"
        },
        "id": "qh0DCxTGZKT9",
        "outputId": "8cfe321e-9e8b-4bd4-9761-2ce54c6b97c2"
      },
      "source": [
        "\n",
        "my_tensor = torch.tensor([[1,2,3],[4,5,6]] ,dtype = torch.float32, device=device, requires_grad=True)\n",
        "my_tensor"
      ],
      "execution_count": null,
      "outputs": [
        {
          "output_type": "execute_result",
          "data": {
            "text/plain": [
              "tensor([[1., 2., 3.],\n",
              "        [4., 5., 6.]], device='cuda:0', requires_grad=True)"
            ]
          },
          "metadata": {
            "tags": []
          },
          "execution_count": 16
        }
      ]
    },
    {
      "cell_type": "code",
      "metadata": {
        "colab": {
          "base_uri": "https://localhost:8080/"
        },
        "id": "0ZH_onmtdXE2",
        "outputId": "ad053061-dc39-4786-f7d0-489edf498a7d"
      },
      "source": [
        "print(my_tensor.dtype)\n",
        "print(my_tensor.device)\n",
        "print(my_tensor.shape)"
      ],
      "execution_count": null,
      "outputs": [
        {
          "output_type": "stream",
          "text": [
            "torch.float32\n",
            "cuda:0\n",
            "torch.Size([2, 3])\n"
          ],
          "name": "stdout"
        }
      ]
    },
    {
      "cell_type": "markdown",
      "metadata": {
        "id": "U1lqXFX3edaW"
      },
      "source": [
        "# Torch Initialisation"
      ]
    },
    {
      "cell_type": "code",
      "metadata": {
        "colab": {
          "base_uri": "https://localhost:8080/"
        },
        "id": "OP6Z5RbeepgE",
        "outputId": "f07b9088-c5eb-412b-89bd-b65abbee6483"
      },
      "source": [
        "x = torch.empty(size = (3,3))\n",
        "x"
      ],
      "execution_count": null,
      "outputs": [
        {
          "output_type": "execute_result",
          "data": {
            "text/plain": [
              "tensor([[-1.3166e+29,  3.0922e-41,  3.3631e-44],\n",
              "        [ 0.0000e+00,         nan,  0.0000e+00],\n",
              "        [ 1.1578e+27,  1.1362e+30,  7.1547e+22]])"
            ]
          },
          "metadata": {
            "tags": []
          },
          "execution_count": 18
        }
      ]
    },
    {
      "cell_type": "code",
      "metadata": {
        "colab": {
          "base_uri": "https://localhost:8080/"
        },
        "id": "Xk_BQRFfexOF",
        "outputId": "1a35cf1f-f701-4d12-ad9a-849fc0a8ca86"
      },
      "source": [
        "x = torch.zeros(size = (3,3)) #OR x = torch.empty((3,3))\n",
        "x"
      ],
      "execution_count": null,
      "outputs": [
        {
          "output_type": "execute_result",
          "data": {
            "text/plain": [
              "tensor([[0., 0., 0.],\n",
              "        [0., 0., 0.],\n",
              "        [0., 0., 0.]])"
            ]
          },
          "metadata": {
            "tags": []
          },
          "execution_count": 19
        }
      ]
    },
    {
      "cell_type": "code",
      "metadata": {
        "colab": {
          "base_uri": "https://localhost:8080/"
        },
        "id": "08mK2IZ4e5N_",
        "outputId": "3ea754d0-f3d2-4f56-a41a-2f21a96d6da6"
      },
      "source": [
        "x = torch.ones((3,3))\n",
        "x"
      ],
      "execution_count": null,
      "outputs": [
        {
          "output_type": "execute_result",
          "data": {
            "text/plain": [
              "tensor([[1., 1., 1.],\n",
              "        [1., 1., 1.],\n",
              "        [1., 1., 1.]])"
            ]
          },
          "metadata": {
            "tags": []
          },
          "execution_count": 20
        }
      ]
    },
    {
      "cell_type": "code",
      "metadata": {
        "colab": {
          "base_uri": "https://localhost:8080/"
        },
        "id": "xcWHtaT4e9Qr",
        "outputId": "0f01e413-b897-433f-9c31-455b4846ab7d"
      },
      "source": [
        "x = torch.rand((3,3)) #UNIFORM DISTRIBUTION\n",
        "x"
      ],
      "execution_count": null,
      "outputs": [
        {
          "output_type": "execute_result",
          "data": {
            "text/plain": [
              "tensor([[0.2238, 0.8675, 0.5901],\n",
              "        [0.0357, 0.8331, 0.9299],\n",
              "        [0.9802, 0.5866, 0.7941]])"
            ]
          },
          "metadata": {
            "tags": []
          },
          "execution_count": 21
        }
      ]
    },
    {
      "cell_type": "code",
      "metadata": {
        "colab": {
          "base_uri": "https://localhost:8080/"
        },
        "id": "SXWHgvcrfBcu",
        "outputId": "e6c63a9c-2945-4382-8817-1838beb88868"
      },
      "source": [
        "x = torch.eye(3) # OR x = torch.eye((3,3))\n",
        "x"
      ],
      "execution_count": null,
      "outputs": [
        {
          "output_type": "execute_result",
          "data": {
            "text/plain": [
              "tensor([[1., 0., 0.],\n",
              "        [0., 1., 0.],\n",
              "        [0., 0., 1.]])"
            ]
          },
          "metadata": {
            "tags": []
          },
          "execution_count": 22
        }
      ]
    },
    {
      "cell_type": "code",
      "metadata": {
        "colab": {
          "base_uri": "https://localhost:8080/"
        },
        "id": "HPMtTWDNfg2D",
        "outputId": "1abf893c-c473-4fea-842a-0000d85303f4"
      },
      "source": [
        "x = torch.arange(start = 0, end = 10, step = 1)\n",
        "x"
      ],
      "execution_count": null,
      "outputs": [
        {
          "output_type": "execute_result",
          "data": {
            "text/plain": [
              "tensor([0, 1, 2, 3, 4, 5, 6, 7, 8, 9])"
            ]
          },
          "metadata": {
            "tags": []
          },
          "execution_count": 23
        }
      ]
    },
    {
      "cell_type": "code",
      "metadata": {
        "colab": {
          "base_uri": "https://localhost:8080/"
        },
        "id": "FjYqj63wf3yb",
        "outputId": "41c9f438-2ba8-4c3e-ff60-3c4793f64c6e"
      },
      "source": [
        "x = torch.linspace( 0.1,  1,  10)#start,end, steps\n",
        "x"
      ],
      "execution_count": null,
      "outputs": [
        {
          "output_type": "execute_result",
          "data": {
            "text/plain": [
              "tensor([0.1000, 0.2000, 0.3000, 0.4000, 0.5000, 0.6000, 0.7000, 0.8000, 0.9000,\n",
              "        1.0000])"
            ]
          },
          "metadata": {
            "tags": []
          },
          "execution_count": 6
        }
      ]
    },
    {
      "cell_type": "code",
      "metadata": {
        "colab": {
          "base_uri": "https://localhost:8080/"
        },
        "id": "YjopePbrgRwF",
        "outputId": "2e7ef284-5d59-496b-e96a-e73c080a6b8e"
      },
      "source": [
        "x = torch.empty(size = (1,5)).normal_( mean = 0, std = 1)\n",
        "x"
      ],
      "execution_count": null,
      "outputs": [
        {
          "output_type": "execute_result",
          "data": {
            "text/plain": [
              "tensor([[-0.6455, -1.7216, -0.1668, -1.1562,  0.5247]])"
            ]
          },
          "metadata": {
            "tags": []
          },
          "execution_count": 27
        }
      ]
    },
    {
      "cell_type": "code",
      "metadata": {
        "colab": {
          "base_uri": "https://localhost:8080/"
        },
        "id": "_JS7uODxg2ok",
        "outputId": "163ad4b9-3453-47ba-e331-4bf6ba9ff41c"
      },
      "source": [
        "x = torch.empty(size = (3,3)).uniform_( 0, 1)\n",
        "x"
      ],
      "execution_count": null,
      "outputs": [
        {
          "output_type": "execute_result",
          "data": {
            "text/plain": [
              "tensor([[0.5319, 0.0499, 0.6945],\n",
              "        [0.7826, 0.7402, 0.2328],\n",
              "        [0.1461, 0.5970, 0.7123]])"
            ]
          },
          "metadata": {
            "tags": []
          },
          "execution_count": 28
        }
      ]
    },
    {
      "cell_type": "code",
      "metadata": {
        "colab": {
          "base_uri": "https://localhost:8080/"
        },
        "id": "-8VD1ShJg7PF",
        "outputId": "86096aa9-71f7-4a53-b665-4a742cc89ced"
      },
      "source": [
        "x = torch.diag(torch.rand(3))\n",
        "x"
      ],
      "execution_count": null,
      "outputs": [
        {
          "output_type": "execute_result",
          "data": {
            "text/plain": [
              "tensor([[0.7990, 0.0000, 0.0000],\n",
              "        [0.0000, 0.0718, 0.0000],\n",
              "        [0.0000, 0.0000, 0.2725]])"
            ]
          },
          "metadata": {
            "tags": []
          },
          "execution_count": 29
        }
      ]
    },
    {
      "cell_type": "markdown",
      "metadata": {
        "id": "_fKxRILBhfBF"
      },
      "source": [
        "# Initialize and convert Tensors to different types"
      ]
    },
    {
      "cell_type": "code",
      "metadata": {
        "colab": {
          "base_uri": "https://localhost:8080/"
        },
        "id": "ekjRRFIyhklR",
        "outputId": "74e63454-7fea-4026-dd28-a11eb1aa9579"
      },
      "source": [
        "tensor = torch.arange(4)\n",
        "tensor"
      ],
      "execution_count": null,
      "outputs": [
        {
          "output_type": "execute_result",
          "data": {
            "text/plain": [
              "tensor([0, 1, 2, 3])"
            ]
          },
          "metadata": {
            "tags": []
          },
          "execution_count": 3
        }
      ]
    },
    {
      "cell_type": "code",
      "metadata": {
        "colab": {
          "base_uri": "https://localhost:8080/"
        },
        "id": "-4S3pfx7Gg8c",
        "outputId": "128ac7eb-b17e-47c5-e4c5-79e7c491897b"
      },
      "source": [
        "print(tensor.bool())"
      ],
      "execution_count": null,
      "outputs": [
        {
          "output_type": "stream",
          "text": [
            "tensor([False,  True,  True,  True])\n"
          ],
          "name": "stdout"
        }
      ]
    },
    {
      "cell_type": "code",
      "metadata": {
        "colab": {
          "base_uri": "https://localhost:8080/"
        },
        "id": "-ojUVM5jGvxe",
        "outputId": "f735468b-06c2-43d0-8eb0-9a14b40ea9e2"
      },
      "source": [
        "print(tensor.short())"
      ],
      "execution_count": null,
      "outputs": [
        {
          "output_type": "stream",
          "text": [
            "tensor([0, 1, 2, 3], dtype=torch.int16)\n"
          ],
          "name": "stdout"
        }
      ]
    },
    {
      "cell_type": "code",
      "metadata": {
        "colab": {
          "base_uri": "https://localhost:8080/"
        },
        "id": "hyIHZVZWHXXA",
        "outputId": "fbc484bf-fb9a-4a04-c28e-51a1a683d84a"
      },
      "source": [
        "print(tensor.long())"
      ],
      "execution_count": null,
      "outputs": [
        {
          "output_type": "stream",
          "text": [
            "tensor([0, 1, 2, 3])\n"
          ],
          "name": "stdout"
        }
      ]
    },
    {
      "cell_type": "code",
      "metadata": {
        "colab": {
          "base_uri": "https://localhost:8080/"
        },
        "id": "ZKonnAv4HaAZ",
        "outputId": "51407a22-070b-4e02-ad91-768f6971c55f"
      },
      "source": [
        "print(tensor.half())"
      ],
      "execution_count": null,
      "outputs": [
        {
          "output_type": "stream",
          "text": [
            "tensor([0., 1., 2., 3.], dtype=torch.float16)\n"
          ],
          "name": "stdout"
        }
      ]
    },
    {
      "cell_type": "code",
      "metadata": {
        "colab": {
          "base_uri": "https://localhost:8080/"
        },
        "id": "EBuFHTQAHcOl",
        "outputId": "bd190bfc-0c16-4c0b-987d-6443b2030b99"
      },
      "source": [
        "print(tensor.float())"
      ],
      "execution_count": null,
      "outputs": [
        {
          "output_type": "stream",
          "text": [
            "tensor([0., 1., 2., 3.])\n"
          ],
          "name": "stdout"
        }
      ]
    },
    {
      "cell_type": "code",
      "metadata": {
        "colab": {
          "base_uri": "https://localhost:8080/"
        },
        "id": "DYtZ5IHCIwyv",
        "outputId": "4e3b7471-8fa5-4469-bc8b-fcd8635d4e17"
      },
      "source": [
        "print(tensor.double())"
      ],
      "execution_count": null,
      "outputs": [
        {
          "output_type": "stream",
          "text": [
            "tensor([0., 1., 2., 3.], dtype=torch.float64)\n"
          ],
          "name": "stdout"
        }
      ]
    },
    {
      "cell_type": "markdown",
      "metadata": {
        "id": "f5F1D5dyJLd_"
      },
      "source": [
        "# Numpy and Tensor Interconversion"
      ]
    },
    {
      "cell_type": "code",
      "metadata": {
        "colab": {
          "base_uri": "https://localhost:8080/"
        },
        "id": "DMwZS_NZJQgz",
        "outputId": "0c22e27d-26a1-43fc-a8e4-9621651ae3da"
      },
      "source": [
        "np_array = np.zeros((5,5))\n",
        "tensor = torch.from_numpy(np_array)\n",
        "tensor"
      ],
      "execution_count": null,
      "outputs": [
        {
          "output_type": "execute_result",
          "data": {
            "text/plain": [
              "tensor([[0., 0., 0., 0., 0.],\n",
              "        [0., 0., 0., 0., 0.],\n",
              "        [0., 0., 0., 0., 0.],\n",
              "        [0., 0., 0., 0., 0.],\n",
              "        [0., 0., 0., 0., 0.]], dtype=torch.float64)"
            ]
          },
          "metadata": {
            "tags": []
          },
          "execution_count": 33
        }
      ]
    },
    {
      "cell_type": "code",
      "metadata": {
        "colab": {
          "base_uri": "https://localhost:8080/"
        },
        "id": "E7ox7pJHJhDo",
        "outputId": "f5c5ca4c-28f6-4964-a0fb-4225b5064559"
      },
      "source": [
        "np_array_back = tensor.numpy()\n",
        "np_array_back"
      ],
      "execution_count": null,
      "outputs": [
        {
          "output_type": "execute_result",
          "data": {
            "text/plain": [
              "array([[0., 0., 0., 0., 0.],\n",
              "       [0., 0., 0., 0., 0.],\n",
              "       [0., 0., 0., 0., 0.],\n",
              "       [0., 0., 0., 0., 0.],\n",
              "       [0., 0., 0., 0., 0.]])"
            ]
          },
          "metadata": {
            "tags": []
          },
          "execution_count": 34
        }
      ]
    },
    {
      "cell_type": "markdown",
      "metadata": {
        "id": "YPuNB9MiKaKy"
      },
      "source": [
        "# Mathematics"
      ]
    },
    {
      "cell_type": "code",
      "metadata": {
        "colab": {
          "base_uri": "https://localhost:8080/"
        },
        "id": "bvJ8ht1zKeA-",
        "outputId": "d974e840-694a-428e-8b80-1f50c5d5bb8c"
      },
      "source": [
        "x = torch.tensor([1,2,3])\n",
        "y = torch.tensor([9,8,7])\n",
        "add = x + y\n",
        "sub = x - y\n",
        "div = torch.true_divide(x,y)\n",
        "div"
      ],
      "execution_count": null,
      "outputs": [
        {
          "output_type": "execute_result",
          "data": {
            "text/plain": [
              "tensor([0.1111, 0.2500, 0.4286])"
            ]
          },
          "metadata": {
            "tags": []
          },
          "execution_count": 35
        }
      ]
    },
    {
      "cell_type": "code",
      "metadata": {
        "id": "n2MVsPERKuH0"
      },
      "source": [
        "t = torch.zeros(3)\n",
        "t.add_(x)\n",
        "t += x #INPLACE ADDITION\n",
        "t = t + x # NORMAL ADDITION"
      ],
      "execution_count": null,
      "outputs": []
    },
    {
      "cell_type": "code",
      "metadata": {
        "colab": {
          "base_uri": "https://localhost:8080/"
        },
        "id": "t53NWaVdLVwr",
        "outputId": "a0acd6e7-246f-4911-a63c-999cd684eac7"
      },
      "source": [
        "z = x.pow(2) # OR x**2\n",
        "z"
      ],
      "execution_count": null,
      "outputs": [
        {
          "output_type": "execute_result",
          "data": {
            "text/plain": [
              "tensor([1, 4, 9])"
            ]
          },
          "metadata": {
            "tags": []
          },
          "execution_count": 38
        }
      ]
    },
    {
      "cell_type": "code",
      "metadata": {
        "colab": {
          "base_uri": "https://localhost:8080/"
        },
        "id": "tYG87I5kLYXn",
        "outputId": "a615c070-b115-4b78-da3b-2feca1c9078f"
      },
      "source": [
        "#MATRIX MULTIPLICATION\n",
        "a = torch.tensor([ 1, 2, 3])\n",
        "b = torch.tensor([ 10, 10, 10 ])\n",
        "x = a.matmul(b) # tensor.dot(a,b) same results\n",
        "x"
      ],
      "execution_count": null,
      "outputs": [
        {
          "output_type": "execute_result",
          "data": {
            "text/plain": [
              "tensor(60)"
            ]
          },
          "metadata": {
            "tags": []
          },
          "execution_count": 58
        }
      ]
    },
    {
      "cell_type": "code",
      "metadata": {
        "colab": {
          "base_uri": "https://localhost:8080/"
        },
        "id": "dPI2HUZKMBg8",
        "outputId": "cb20c3d8-ccd3-444a-9d0e-600cf7081dbf"
      },
      "source": [
        "x = a * b\n",
        "x"
      ],
      "execution_count": null,
      "outputs": [
        {
          "output_type": "execute_result",
          "data": {
            "text/plain": [
              "tensor([10, 20, 30])"
            ]
          },
          "metadata": {
            "tags": []
          },
          "execution_count": 46
        }
      ]
    },
    {
      "cell_type": "code",
      "metadata": {
        "colab": {
          "base_uri": "https://localhost:8080/"
        },
        "id": "aZ39Pf7WMlbw",
        "outputId": "4d1f6fed-0192-4478-eeb8-0a2a4cc1300e"
      },
      "source": [
        "a1 = torch.tensor(( [[ 1, 2, 3], [4,5,6]] ))\n",
        "b1 = torch.tensor(( [[ 10, 10, 10 ], [10, 10, 10], [10,10,10]] ))\n",
        "x = a1.matmul(b1)\n",
        "x"
      ],
      "execution_count": null,
      "outputs": [
        {
          "output_type": "execute_result",
          "data": {
            "text/plain": [
              "tensor([[ 60,  60,  60],\n",
              "        [150, 150, 150]])"
            ]
          },
          "metadata": {
            "tags": []
          },
          "execution_count": 56
        }
      ]
    },
    {
      "cell_type": "code",
      "metadata": {
        "colab": {
          "base_uri": "https://localhost:8080/"
        },
        "id": "ci3HK28aOFro",
        "outputId": "07df8f65-9df0-481c-bc0f-7a66adc17c6f"
      },
      "source": [
        "z = torch.dot(a,b)\n",
        "z"
      ],
      "execution_count": null,
      "outputs": [
        {
          "output_type": "execute_result",
          "data": {
            "text/plain": [
              "tensor(60)"
            ]
          },
          "metadata": {
            "tags": []
          },
          "execution_count": 59
        }
      ]
    },
    {
      "cell_type": "code",
      "metadata": {
        "colab": {
          "base_uri": "https://localhost:8080/"
        },
        "id": "VIPtvN9cOaxy",
        "outputId": "c1dd26f8-2f3f-4281-cebc-03c7593cdbfe"
      },
      "source": [
        "#BATCH MATRIX MULTIPLICATION\n",
        "batch = 32\n",
        "n = 10\n",
        "m = 20\n",
        "p = 30\n",
        "\n",
        "tensor1 =  torch.rand((batch, n , m))\n",
        "tensor2 =  torch.rand((batch, m , p))\n",
        "out_bmm = torch.bmm(tensor1, tensor2) #(batch, n, p)\n",
        "out_bmm"
      ],
      "execution_count": null,
      "outputs": [
        {
          "output_type": "execute_result",
          "data": {
            "text/plain": [
              "tensor([[[5.6332, 5.5514, 3.8227,  ..., 4.6969, 5.6156, 4.1307],\n",
              "         [4.5636, 4.7153, 4.0245,  ..., 4.3428, 4.9982, 3.8089],\n",
              "         [5.2167, 5.2118, 3.5934,  ..., 5.1266, 5.0450, 3.8832],\n",
              "         ...,\n",
              "         [6.7659, 6.2725, 4.7783,  ..., 5.6165, 6.5834, 5.1801],\n",
              "         [6.4199, 6.3950, 4.3163,  ..., 4.5658, 5.9025, 4.8469],\n",
              "         [7.4118, 5.8483, 5.0017,  ..., 5.7673, 6.8417, 4.9878]],\n",
              "\n",
              "        [[3.9765, 3.1785, 2.6704,  ..., 3.4773, 3.0908, 3.2122],\n",
              "         [4.7914, 3.9944, 4.0346,  ..., 4.9064, 3.5971, 4.1767],\n",
              "         [5.8063, 4.8159, 3.9691,  ..., 5.6358, 4.7999, 3.9452],\n",
              "         ...,\n",
              "         [6.1249, 6.0720, 4.9092,  ..., 6.3594, 5.2976, 5.1142],\n",
              "         [3.1861, 3.6027, 2.7533,  ..., 4.4394, 3.8670, 2.5754],\n",
              "         [7.0675, 5.2412, 4.6386,  ..., 5.5422, 5.1637, 5.1200]],\n",
              "\n",
              "        [[4.8253, 3.6978, 6.8449,  ..., 5.4753, 4.5636, 6.0165],\n",
              "         [4.5383, 3.4044, 6.1263,  ..., 5.4497, 4.1600, 4.9159],\n",
              "         [5.6972, 4.1260, 7.0617,  ..., 6.2003, 4.9594, 6.5080],\n",
              "         ...,\n",
              "         [4.9025, 4.0127, 6.6293,  ..., 5.7516, 4.9264, 5.9088],\n",
              "         [4.6674, 3.1872, 6.5106,  ..., 5.1138, 4.4710, 5.7894],\n",
              "         [4.6787, 3.6425, 5.9566,  ..., 5.4320, 4.8569, 5.5854]],\n",
              "\n",
              "        ...,\n",
              "\n",
              "        [[4.4026, 5.3852, 5.3180,  ..., 5.2801, 4.6863, 4.9274],\n",
              "         [3.8180, 4.3348, 4.1175,  ..., 4.3548, 3.9241, 4.0286],\n",
              "         [4.9634, 5.8403, 5.0894,  ..., 4.3059, 4.6355, 4.2783],\n",
              "         ...,\n",
              "         [4.8765, 6.1829, 6.0590,  ..., 5.6112, 4.7348, 5.7426],\n",
              "         [5.0573, 5.9521, 5.7160,  ..., 5.2162, 5.4519, 5.3187],\n",
              "         [5.8507, 6.0741, 5.5785,  ..., 4.9555, 5.0861, 4.6502]],\n",
              "\n",
              "        [[5.9205, 5.2241, 6.6775,  ..., 4.9890, 5.3225, 5.7001],\n",
              "         [4.2681, 3.9466, 5.3486,  ..., 4.1682, 3.5940, 4.2064],\n",
              "         [5.1930, 5.6148, 6.2492,  ..., 5.1771, 5.1539, 5.6913],\n",
              "         ...,\n",
              "         [5.3469, 5.7258, 5.8839,  ..., 4.8379, 5.1490, 5.4053],\n",
              "         [4.8406, 4.0851, 6.3040,  ..., 4.6248, 5.1042, 4.9652],\n",
              "         [6.8164, 6.4739, 7.2432,  ..., 5.8349, 5.8094, 6.5054]],\n",
              "\n",
              "        [[2.7208, 5.7927, 4.5399,  ..., 3.1656, 4.1180, 4.5228],\n",
              "         [4.0473, 5.8116, 4.2313,  ..., 3.7936, 3.9941, 4.9198],\n",
              "         [4.6892, 6.6899, 6.1165,  ..., 4.8412, 4.1869, 4.8165],\n",
              "         ...,\n",
              "         [4.2130, 6.4221, 5.4014,  ..., 4.4654, 3.8030, 4.9655],\n",
              "         [3.1325, 5.4617, 4.8979,  ..., 3.9337, 3.6222, 4.0610],\n",
              "         [5.5277, 8.6336, 8.4407,  ..., 5.5152, 5.2510, 6.8524]]])"
            ]
          },
          "metadata": {
            "tags": []
          },
          "execution_count": 61
        }
      ]
    },
    {
      "cell_type": "code",
      "metadata": {
        "colab": {
          "base_uri": "https://localhost:8080/"
        },
        "id": "N4PP596OPRzv",
        "outputId": "2ee14af5-7ca4-4279-bee6-7e050b2313d8"
      },
      "source": [
        "a1 = torch.tensor(( [[ 1, 2, 3], [4,5,6], [7,8,9]] ))\n",
        "print(a1)\n",
        "sum = torch.sum(a1,dim=0) #vertically top-bottom\n",
        "print(sum)\n",
        "sum = torch.sum(a1,dim=1) #horizontally left-right\n",
        "print(sum)\n",
        "#sum = torch.sum(a2,dim=2)\n",
        "#print(sum)"
      ],
      "execution_count": null,
      "outputs": [
        {
          "output_type": "stream",
          "text": [
            "tensor([[1, 2, 3],\n",
            "        [4, 5, 6],\n",
            "        [7, 8, 9]])\n",
            "tensor([12, 15, 18])\n",
            "tensor([ 6, 15, 24])\n"
          ],
          "name": "stdout"
        }
      ]
    },
    {
      "cell_type": "code",
      "metadata": {
        "colab": {
          "base_uri": "https://localhost:8080/"
        },
        "id": "n-280AomQa4g",
        "outputId": "838241b0-14c5-49f4-fad7-26153cd49d66"
      },
      "source": [
        "#MAX\n",
        "values, indices = torch.max(a1, dim=0)\n",
        "print(values, indices)"
      ],
      "execution_count": null,
      "outputs": [
        {
          "output_type": "stream",
          "text": [
            "tensor([7, 8, 9]) tensor([2, 2, 2])\n"
          ],
          "name": "stdout"
        }
      ]
    },
    {
      "cell_type": "code",
      "metadata": {
        "colab": {
          "base_uri": "https://localhost:8080/",
          "height": 175
        },
        "id": "jX5AfIWmRVT-",
        "outputId": "ca2aa499-bbe4-4c62-de7a-7e4dbfedafca"
      },
      "source": [
        "mean = torch.mean(a1,dim = 0) #a1 should be float\n",
        "mean"
      ],
      "execution_count": null,
      "outputs": [
        {
          "output_type": "error",
          "ename": "RuntimeError",
          "evalue": "ignored",
          "traceback": [
            "\u001b[0;31m---------------------------------------------------------------------------\u001b[0m",
            "\u001b[0;31mRuntimeError\u001b[0m                              Traceback (most recent call last)",
            "\u001b[0;32m<ipython-input-70-4e94d1ff201b>\u001b[0m in \u001b[0;36m<module>\u001b[0;34m()\u001b[0m\n\u001b[0;32m----> 1\u001b[0;31m \u001b[0mmean\u001b[0m \u001b[0;34m=\u001b[0m \u001b[0mtorch\u001b[0m\u001b[0;34m.\u001b[0m\u001b[0mmean\u001b[0m\u001b[0;34m(\u001b[0m\u001b[0ma1\u001b[0m\u001b[0;34m,\u001b[0m\u001b[0mdim\u001b[0m \u001b[0;34m=\u001b[0m \u001b[0;36m0\u001b[0m\u001b[0;34m)\u001b[0m\u001b[0;34m\u001b[0m\u001b[0;34m\u001b[0m\u001b[0m\n\u001b[0m\u001b[1;32m      2\u001b[0m \u001b[0mmean\u001b[0m\u001b[0;34m\u001b[0m\u001b[0;34m\u001b[0m\u001b[0m\n",
            "\u001b[0;31mRuntimeError\u001b[0m: Can only calculate the mean of floating types. Got Long instead."
          ]
        }
      ]
    },
    {
      "cell_type": "code",
      "metadata": {
        "colab": {
          "base_uri": "https://localhost:8080/"
        },
        "id": "7oWCx-AjR69X",
        "outputId": "9608db8d-47b1-4c3e-c160-d5dee01c10f3"
      },
      "source": [
        "mean = torch.mean(a1.float(),dim = 0)\n",
        "mean"
      ],
      "execution_count": null,
      "outputs": [
        {
          "output_type": "execute_result",
          "data": {
            "text/plain": [
              "tensor([4., 5., 6.])"
            ]
          },
          "metadata": {
            "tags": []
          },
          "execution_count": 71
        }
      ]
    },
    {
      "cell_type": "code",
      "metadata": {
        "colab": {
          "base_uri": "https://localhost:8080/"
        },
        "id": "WPF2QdivSDnx",
        "outputId": "b8ba2f9c-4c28-4ac3-cbfc-c92b586d9843"
      },
      "source": [
        "sorted_a1, indices = torch.sort(a1, descending=True)\n",
        "print(a1,'\\n', sorted_a1,'\\n', indices)"
      ],
      "execution_count": null,
      "outputs": [
        {
          "output_type": "stream",
          "text": [
            "tensor([[1, 2, 3],\n",
            "        [4, 5, 6],\n",
            "        [7, 8, 9]]) \n",
            " tensor([[3, 2, 1],\n",
            "        [6, 5, 4],\n",
            "        [9, 8, 7]]) \n",
            " tensor([[2, 1, 0],\n",
            "        [2, 1, 0],\n",
            "        [2, 1, 0]])\n"
          ],
          "name": "stdout"
        }
      ]
    },
    {
      "cell_type": "code",
      "metadata": {
        "colab": {
          "base_uri": "https://localhost:8080/"
        },
        "id": "WHmZpe70SXo0",
        "outputId": "bcee0456-b629-4f26-f024-29220aa0d0d9"
      },
      "source": [
        "z = torch.clamp(a1, min = 2, max = 8) # min value - below that all min , max - all above max set to max\n",
        "z"
      ],
      "execution_count": null,
      "outputs": [
        {
          "output_type": "execute_result",
          "data": {
            "text/plain": [
              "tensor([[2, 2, 3],\n",
              "        [4, 5, 6],\n",
              "        [7, 8, 8]])"
            ]
          },
          "metadata": {
            "tags": []
          },
          "execution_count": 77
        }
      ]
    },
    {
      "cell_type": "code",
      "metadata": {
        "id": "LgYXuhY_TB8s"
      },
      "source": [
        ""
      ],
      "execution_count": null,
      "outputs": []
    },
    {
      "cell_type": "markdown",
      "metadata": {
        "id": "njtJdgfeYB0s"
      },
      "source": [
        "#Batch Indexing"
      ]
    },
    {
      "cell_type": "code",
      "metadata": {
        "colab": {
          "base_uri": "https://localhost:8080/"
        },
        "id": "DbPFfhXrYEPK",
        "outputId": "7e859842-ecf0-4f91-bf85-9f0bd58adb89"
      },
      "source": [
        "batch_size = 10\n",
        "features = 25\n",
        "x = torch.rand(batch_size, features)\n",
        "x"
      ],
      "execution_count": null,
      "outputs": [
        {
          "output_type": "execute_result",
          "data": {
            "text/plain": [
              "tensor([[0.1233, 0.7616, 0.2860, 0.3810, 0.2315, 0.0934, 0.0859, 0.0848, 0.5353,\n",
              "         0.5407, 0.7639, 0.3725, 0.8877, 0.7014, 0.2788, 0.4184, 0.9879, 0.5155,\n",
              "         0.6070, 0.5926, 0.6255, 0.0871, 0.5081, 0.0912, 0.0087],\n",
              "        [0.6630, 0.0073, 0.6622, 0.3281, 0.2814, 0.0640, 0.7587, 0.2742, 0.7908,\n",
              "         0.5693, 0.5132, 0.0506, 0.5501, 0.5096, 0.8167, 0.6739, 0.0034, 0.5665,\n",
              "         0.2167, 0.9020, 0.4173, 0.0255, 0.7566, 0.1186, 0.5642],\n",
              "        [0.9391, 0.2618, 0.8121, 0.7745, 0.1985, 0.9600, 0.5855, 0.2491, 0.0096,\n",
              "         0.1526, 0.2860, 0.6275, 0.8537, 0.4389, 0.5719, 0.7720, 0.9964, 0.0383,\n",
              "         0.7094, 0.0945, 0.7530, 0.9171, 0.0718, 0.8014, 0.0109],\n",
              "        [0.2761, 0.7304, 0.3388, 0.0443, 0.0391, 0.8253, 0.8288, 0.7623, 0.8417,\n",
              "         0.6676, 0.6609, 0.5478, 0.4323, 0.9565, 0.6630, 0.6117, 0.7722, 0.3480,\n",
              "         0.7256, 0.2970, 0.1895, 0.9253, 0.5987, 0.7206, 0.4352],\n",
              "        [0.0216, 0.3211, 0.5846, 0.3701, 0.4889, 0.4918, 0.3811, 0.3921, 0.9409,\n",
              "         0.3666, 0.4763, 0.5637, 0.4926, 0.7216, 0.5460, 0.4594, 0.8378, 0.0264,\n",
              "         0.9996, 0.9514, 0.0277, 0.4376, 0.7897, 0.8979, 0.1680],\n",
              "        [0.6656, 0.9672, 0.1465, 0.4542, 0.6832, 0.4475, 0.4385, 0.3435, 0.8370,\n",
              "         0.4402, 0.1385, 0.8941, 0.8278, 0.4975, 0.7204, 0.8780, 0.7364, 0.3913,\n",
              "         0.7684, 0.1367, 0.0481, 0.9357, 0.7204, 0.4857, 0.7013],\n",
              "        [0.5036, 0.9328, 0.6436, 0.1489, 0.8159, 0.7235, 0.7583, 0.7336, 0.5776,\n",
              "         0.4483, 0.6050, 0.7671, 0.8445, 0.3553, 0.6660, 0.9825, 0.1070, 0.2885,\n",
              "         0.1007, 0.1577, 0.7256, 0.5901, 0.1178, 0.0752, 0.0486],\n",
              "        [0.7971, 0.1553, 0.9619, 0.7415, 0.0722, 0.7185, 0.2455, 0.2826, 0.8908,\n",
              "         0.2225, 0.7299, 0.8282, 0.4781, 0.3954, 0.1824, 0.7122, 0.5662, 0.7840,\n",
              "         0.3679, 0.6034, 0.6534, 0.4477, 0.9894, 0.6380, 0.2757],\n",
              "        [0.6361, 0.3763, 0.7092, 0.5823, 0.5113, 0.5625, 0.8322, 0.3399, 0.7177,\n",
              "         0.6702, 0.5400, 0.9571, 0.1204, 0.2670, 0.8533, 0.2407, 0.2787, 0.4221,\n",
              "         0.6527, 0.9245, 0.6133, 0.3577, 0.1932, 0.8633, 0.0411],\n",
              "        [0.5399, 0.8596, 0.5482, 0.0368, 0.9051, 0.5252, 0.0829, 0.2097, 0.7822,\n",
              "         0.0276, 0.6361, 0.4338, 0.8025, 0.3248, 0.4979, 0.5917, 0.4542, 0.5032,\n",
              "         0.9178, 0.1083, 0.8539, 0.2327, 0.8758, 0.5324, 0.4466]])"
            ]
          },
          "metadata": {
            "tags": []
          },
          "execution_count": 84
        }
      ]
    },
    {
      "cell_type": "code",
      "metadata": {
        "colab": {
          "base_uri": "https://localhost:8080/"
        },
        "id": "UoWgUU5LYei5",
        "outputId": "b2199b3e-1626-4db1-b2eb-8cb3eaebbe34"
      },
      "source": [
        "x = torch.arange(10,20)\n",
        "print(x[(x<12) | (x > 18)])"
      ],
      "execution_count": null,
      "outputs": [
        {
          "output_type": "stream",
          "text": [
            "tensor([10, 11, 19])\n"
          ],
          "name": "stdout"
        }
      ]
    },
    {
      "cell_type": "code",
      "metadata": {
        "colab": {
          "base_uri": "https://localhost:8080/"
        },
        "id": "pQXkioRTbuFI",
        "outputId": "e79897a7-aa29-40dc-d1de-aea113f2e0bf"
      },
      "source": [
        "x[[2,4,6]]"
      ],
      "execution_count": null,
      "outputs": [
        {
          "output_type": "execute_result",
          "data": {
            "text/plain": [
              "tensor([12, 14, 16])"
            ]
          },
          "metadata": {
            "tags": []
          },
          "execution_count": 87
        }
      ]
    },
    {
      "cell_type": "code",
      "metadata": {
        "colab": {
          "base_uri": "https://localhost:8080/"
        },
        "id": "XYelTd6FrSOZ",
        "outputId": "a562ca97-2605-495f-c334-201a9b7136ea"
      },
      "source": [
        "x"
      ],
      "execution_count": null,
      "outputs": [
        {
          "output_type": "execute_result",
          "data": {
            "text/plain": [
              "tensor([10, 11, 12, 13, 14, 15, 16, 17, 18, 19])"
            ]
          },
          "metadata": {
            "tags": []
          },
          "execution_count": 89
        }
      ]
    },
    {
      "cell_type": "code",
      "metadata": {
        "colab": {
          "base_uri": "https://localhost:8080/"
        },
        "id": "ewkHCTa4rDah",
        "outputId": "30634b65-a30f-4856-b975-fe544549ee6e"
      },
      "source": [
        "x[[2]]"
      ],
      "execution_count": null,
      "outputs": [
        {
          "output_type": "execute_result",
          "data": {
            "text/plain": [
              "tensor([12])"
            ]
          },
          "metadata": {
            "tags": []
          },
          "execution_count": 90
        }
      ]
    },
    {
      "cell_type": "code",
      "metadata": {
        "colab": {
          "base_uri": "https://localhost:8080/"
        },
        "id": "mW6zRpkgrZ_b",
        "outputId": "5cb8f644-89fe-4f93-ce31-61b9f2959ab1"
      },
      "source": [
        "x[2]"
      ],
      "execution_count": null,
      "outputs": [
        {
          "output_type": "execute_result",
          "data": {
            "text/plain": [
              "tensor(12)"
            ]
          },
          "metadata": {
            "tags": []
          },
          "execution_count": 91
        }
      ]
    },
    {
      "cell_type": "code",
      "metadata": {
        "colab": {
          "base_uri": "https://localhost:8080/"
        },
        "id": "e2neP0hBrarp",
        "outputId": "89bdc93c-d8df-4673-e257-28aaa3a3ec77"
      },
      "source": [
        "x[x.remainder(2)==0]"
      ],
      "execution_count": null,
      "outputs": [
        {
          "output_type": "execute_result",
          "data": {
            "text/plain": [
              "tensor([10, 12, 14, 16, 18])"
            ]
          },
          "metadata": {
            "tags": []
          },
          "execution_count": 92
        }
      ]
    },
    {
      "cell_type": "code",
      "metadata": {
        "colab": {
          "base_uri": "https://localhost:8080/"
        },
        "id": "J-KeBIMUr8DA",
        "outputId": "457e4009-4a00-4769-c524-a1fef75db626"
      },
      "source": [
        "torch.where(x>12,x,x*2)"
      ],
      "execution_count": null,
      "outputs": [
        {
          "output_type": "execute_result",
          "data": {
            "text/plain": [
              "tensor([20, 22, 24, 13, 14, 15, 16, 17, 18, 19])"
            ]
          },
          "metadata": {
            "tags": []
          },
          "execution_count": 97
        }
      ]
    },
    {
      "cell_type": "code",
      "metadata": {
        "colab": {
          "base_uri": "https://localhost:8080/"
        },
        "id": "3K0XQYXcsSLI",
        "outputId": "6f7fbd0b-bc99-4872-a29d-b1ac20d18888"
      },
      "source": [
        "torch.tensor([1,1,2,2,2,3,3,1,1,1,1,2]).unique()"
      ],
      "execution_count": null,
      "outputs": [
        {
          "output_type": "execute_result",
          "data": {
            "text/plain": [
              "tensor([1, 2, 3])"
            ]
          },
          "metadata": {
            "tags": []
          },
          "execution_count": 98
        }
      ]
    },
    {
      "cell_type": "code",
      "metadata": {
        "colab": {
          "base_uri": "https://localhost:8080/"
        },
        "id": "Y5W8Tz9etAA8",
        "outputId": "b1f35000-3967-4a98-e156-e5d6f537e5d1"
      },
      "source": [
        "x.ndimension()"
      ],
      "execution_count": null,
      "outputs": [
        {
          "output_type": "execute_result",
          "data": {
            "text/plain": [
              "1"
            ]
          },
          "metadata": {
            "tags": []
          },
          "execution_count": 100
        }
      ]
    },
    {
      "cell_type": "markdown",
      "metadata": {
        "id": "AoeBeLsvteEu"
      },
      "source": [
        "#Reshaping Tensor"
      ]
    },
    {
      "cell_type": "code",
      "metadata": {
        "id": "o9maolYEtgnm",
        "colab": {
          "base_uri": "https://localhost:8080/"
        },
        "outputId": "d42e98e6-9890-4374-ac58-e4868396f3f8"
      },
      "source": [
        "x = torch.arange(9)\n",
        "xr = x.view(3,3) #work for contiguous memory\n",
        "xr"
      ],
      "execution_count": 2,
      "outputs": [
        {
          "output_type": "execute_result",
          "data": {
            "text/plain": [
              "tensor([[0, 1, 2],\n",
              "        [3, 4, 5],\n",
              "        [6, 7, 8]])"
            ]
          },
          "metadata": {
            "tags": []
          },
          "execution_count": 2
        }
      ]
    },
    {
      "cell_type": "code",
      "metadata": {
        "colab": {
          "base_uri": "https://localhost:8080/"
        },
        "id": "jZtwS6bev6qs",
        "outputId": "cbbd580a-e22e-4de8-9d86-5bc18edc5d87"
      },
      "source": [
        "xr = x.reshape(3,3) #works everytime but not efficient as view , but for safe option use reshape\n",
        "xr"
      ],
      "execution_count": 3,
      "outputs": [
        {
          "output_type": "execute_result",
          "data": {
            "text/plain": [
              "tensor([[0, 1, 2],\n",
              "        [3, 4, 5],\n",
              "        [6, 7, 8]])"
            ]
          },
          "metadata": {
            "tags": []
          },
          "execution_count": 3
        }
      ]
    },
    {
      "cell_type": "code",
      "metadata": {
        "colab": {
          "base_uri": "https://localhost:8080/"
        },
        "id": "wipB_-uRwQny",
        "outputId": "099eb4a6-2cb5-4d24-c3bd-8dd28935416c"
      },
      "source": [
        "x1  = torch.rand(2,5)\n",
        "x2  = torch.rand(2,5)\n",
        "torch.cat((x1,x2), dim = 0).shape"
      ],
      "execution_count": 4,
      "outputs": [
        {
          "output_type": "execute_result",
          "data": {
            "text/plain": [
              "torch.Size([4, 5])"
            ]
          },
          "metadata": {
            "tags": []
          },
          "execution_count": 4
        }
      ]
    },
    {
      "cell_type": "code",
      "metadata": {
        "colab": {
          "base_uri": "https://localhost:8080/"
        },
        "id": "g_IVx9OSxRw9",
        "outputId": "1cd0d51e-3dc4-479b-8aa5-bcebcd451ea3"
      },
      "source": [
        "#flatten the matrix\n",
        "z = x1.reshape(-1)\n",
        "z"
      ],
      "execution_count": 7,
      "outputs": [
        {
          "output_type": "execute_result",
          "data": {
            "text/plain": [
              "tensor([0.1659, 0.7694, 0.1647, 0.7959, 0.4782, 0.7871, 0.2076, 0.1199, 0.8039,\n",
              "        0.3764])"
            ]
          },
          "metadata": {
            "tags": []
          },
          "execution_count": 7
        }
      ]
    },
    {
      "cell_type": "code",
      "metadata": {
        "colab": {
          "base_uri": "https://localhost:8080/"
        },
        "id": "xeNfMiubxj7K",
        "outputId": "e634ef1a-e3d2-4e15-d54f-02e156696c4b"
      },
      "source": [
        "z.shape"
      ],
      "execution_count": 8,
      "outputs": [
        {
          "output_type": "execute_result",
          "data": {
            "text/plain": [
              "torch.Size([10])"
            ]
          },
          "metadata": {
            "tags": []
          },
          "execution_count": 8
        }
      ]
    },
    {
      "cell_type": "code",
      "metadata": {
        "colab": {
          "base_uri": "https://localhost:8080/"
        },
        "id": "uYZXIR0sxqLP",
        "outputId": "02f6bccd-c5e0-4eb0-df42-c3c42b6deb9d"
      },
      "source": [
        "#IMPORTANT WITH BATCH\n",
        "batch = 64\n",
        "x = torch.rand(batch,2,5)\n",
        "y = x.reshape(batch,-1) #i.e. when i dont want to touch batch\n",
        "y.shape"
      ],
      "execution_count": 9,
      "outputs": [
        {
          "output_type": "execute_result",
          "data": {
            "text/plain": [
              "torch.Size([64, 10])"
            ]
          },
          "metadata": {
            "tags": []
          },
          "execution_count": 9
        }
      ]
    },
    {
      "cell_type": "code",
      "metadata": {
        "colab": {
          "base_uri": "https://localhost:8080/"
        },
        "id": "W1xMXVejxm29",
        "outputId": "15800754-1b8b-4220-9801-b2f091ce67e0"
      },
      "source": [
        "#IMPORTANT CHANGING THE AXIS\n",
        "z = x.permute(0,2,1)\n",
        "z.shape"
      ],
      "execution_count": 10,
      "outputs": [
        {
          "output_type": "execute_result",
          "data": {
            "text/plain": [
              "torch.Size([64, 5, 2])"
            ]
          },
          "metadata": {
            "tags": []
          },
          "execution_count": 10
        }
      ]
    },
    {
      "cell_type": "code",
      "metadata": {
        "colab": {
          "base_uri": "https://localhost:8080/"
        },
        "id": "UiCs8H2cyoWk",
        "outputId": "295898f5-8a4e-4d85-c39e-a43d78d3e222"
      },
      "source": [
        "#IMPORTANT UNSQUEEZE\n",
        "x = torch.arange(10) #shape -> [10]\n",
        "print(x.shape)\n",
        "print(x.unsqueeze(0).shape) #at 0th index \n",
        "print(x.unsqueeze(1).shape) #at 1th index\n",
        "z = x.unsqueeze(0).unsqueeze(1)\n",
        "print(x.unsqueeze(0).unsqueeze(1).shape) #at 0th and 1th index\n",
        "\n",
        "#Now we dont want 1th index\n",
        "z = z.squeeze(1)\n",
        "print(z.shape)"
      ],
      "execution_count": 19,
      "outputs": [
        {
          "output_type": "stream",
          "text": [
            "torch.Size([10])\n",
            "torch.Size([1, 10])\n",
            "torch.Size([10, 1])\n",
            "torch.Size([1, 1, 10])\n",
            "torch.Size([1, 10])\n"
          ],
          "name": "stdout"
        }
      ]
    }
  ]
}